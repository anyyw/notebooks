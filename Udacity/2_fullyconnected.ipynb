{
  "nbformat": 4,
  "nbformat_minor": 0,
  "metadata": {
    "colab": {
      "name": "2_fullyconnected.ipynb",
      "version": "0.3.2",
      "views": {},
      "default_view": {},
      "provenance": []
    }
  },
  "cells": [
    {
      "metadata": {
        "id": "kR-4eNdK6lYS",
        "colab_type": "text"
      },
      "cell_type": "markdown",
      "source": [
        "Deep Learning\n",
        "=============\n",
        "\n",
        "Assignment 2\n",
        "------------\n",
        "\n",
        "Previously in `1_notmnist.ipynb`, we created a pickle with formatted datasets for training, development and testing on the [notMNIST dataset](http://yaroslavvb.blogspot.com/2011/09/notmnist-dataset.html).\n",
        "\n",
        "The goal of this assignment is to progressively train deeper and more accurate models using TensorFlow."
      ]
    },
    {
      "metadata": {
        "id": "JLpLa8Jt7Vu4",
        "colab_type": "code",
        "colab": {
          "autoexec": {
            "startup": false,
            "wait_interval": 0
          }
        },
        "cellView": "both"
      },
      "cell_type": "code",
      "source": [
        "# These are all the modules we'll be using later. Make sure you can import them\n",
        "# before proceeding further.\n",
        "from __future__ import print_function\n",
        "import numpy as np\n",
        "import tensorflow as tf\n",
        "import io\n",
        "from six.moves import cPickle as pickle\n",
        "from six.moves import range"
      ],
      "execution_count": 0,
      "outputs": []
    },
    {
      "metadata": {
        "id": "1HrCK6e17WzV",
        "colab_type": "text"
      },
      "cell_type": "markdown",
      "source": [
        "First reload the data we generated in `1_notmnist.ipynb`. We need to first download the file from Drive."
      ]
    },
    {
      "metadata": {
        "id": "vXC2DyhXvqWa",
        "colab_type": "code",
        "colab": {
          "autoexec": {
            "startup": false,
            "wait_interval": 0
          }
        }
      },
      "cell_type": "code",
      "source": [
        "#Auth\n",
        "from google.colab import auth\n",
        "auth.authenticate_user()\n",
        "\n",
        "#Drive API client\n",
        "from googleapiclient.discovery import build\n",
        "drive_service = build('drive', 'v3')\n",
        "\n",
        "#Downloads\n",
        "from googleapiclient.http import MediaIoBaseDownload"
      ],
      "execution_count": 0,
      "outputs": []
    },
    {
      "metadata": {
        "id": "lh9_6_aGvUaj",
        "colab_type": "code",
        "colab": {
          "autoexec": {
            "startup": false,
            "wait_interval": 0
          },
          "base_uri": "https://localhost:8080/",
          "height": 4474
        },
        "cellView": "code",
        "outputId": "7c27c83d-bd64-4b6e-fad2-044462973c5a",
        "executionInfo": {
          "status": "ok",
          "timestamp": 1528147917837,
          "user_tz": 420,
          "elapsed": 8523,
          "user": {
            "displayName": "Andy Wang",
            "photoUrl": "//lh5.googleusercontent.com/-JeGfHaAYPFk/AAAAAAAAAAI/AAAAAAAAAC8/R0S_QnbtnTs/s50-c-k-no/photo.jpg",
            "userId": "115106824648733097558"
          }
        }
      },
      "cell_type": "code",
      "source": [
        "#Find file id\n",
        "file_name = 'notMNIST.pickle' #@param {type:\"string\"}\n",
        "file_id = ''\n",
        "page_token = None\n",
        "while True:\n",
        "    response = drive_service.files().list(q=\"name contains '{}'\".format(file_name),\n",
        "                                          spaces='drive',\n",
        "                                          fields='nextPageToken, files(id, name)',\n",
        "                                          pageToken=page_token).execute()\n",
        "    for file in response.get('files', []):\n",
        "        # Process change\n",
        "        print('Found file: %s (%s)' % (file.get('name'), file.get('id')))\n",
        "        file_id = file.get('id')\n",
        "    page_token = response.get('nextPageToken', None)\n",
        "    if page_token is None:\n",
        "        break\n",
        "        \n",
        "#Download file id\n",
        "request = drive_service.files().get_media(fileId=file_id)\n",
        "handler = io.BytesIO()\n",
        "downloader = MediaIoBaseDownload(handler, request)\n",
        "done = False\n",
        "while done is False:\n",
        "  status, done = downloader.next_chunk()\n",
        "  print(\"Download %d%%\" % int(status.progress() * 100))\n",
        "  \n",
        "handler.seek(0)\n",
        "save = pickle.load(handler)\n",
        "print(\"Loaded pickle: \" + str(save))"
      ],
      "execution_count": 29,
      "outputs": [
        {
          "output_type": "stream",
          "text": [
            "Found file: notMNIST.pickle (1dlQpbatb09W3W0nBbjlpiB8fSbEn46UL)\n",
            "Download 15%\n",
            "Download 30%\n",
            "Download 45%\n",
            "Download 60%\n",
            "Download 75%\n",
            "Download 91%\n",
            "Download 100%\n",
            "Loaded pickle: {'train_labels': array([4, 9, 6, ..., 2, 4, 4], dtype=int32), 'valid_labels': array([1, 9, 3, ..., 8, 9, 8], dtype=int32), 'test_labels': array([3, 6, 4, ..., 6, 9, 0], dtype=int32), 'test_dataset': array([[[-0.5       , -0.5       , -0.48431373, ..., -0.49607843,\n",
            "         -0.5       , -0.5       ],\n",
            "        [-0.5       , -0.5       , -0.49607843, ..., -0.5       ,\n",
            "         -0.49607843, -0.5       ],\n",
            "        [-0.5       , -0.5       , -0.5       , ..., -0.46078432,\n",
            "         -0.49215686, -0.49607843],\n",
            "        ...,\n",
            "        [-0.5       , -0.5       , -0.40980393, ..., -0.5       ,\n",
            "         -0.5       , -0.5       ],\n",
            "        [-0.30784315, -0.01764706,  0.3745098 , ..., -0.5       ,\n",
            "         -0.5       , -0.5       ],\n",
            "        [ 0.29607844,  0.5       ,  0.5       , ..., -0.5       ,\n",
            "         -0.5       , -0.5       ]],\n",
            "\n",
            "       [[-0.5       , -0.5       , -0.5       , ..., -0.5       ,\n",
            "         -0.5       , -0.5       ],\n",
            "        [-0.5       , -0.5       , -0.5       , ..., -0.49215686,\n",
            "         -0.49607843, -0.5       ],\n",
            "        [-0.5       , -0.5       , -0.5       , ..., -0.49607843,\n",
            "         -0.5       , -0.5       ],\n",
            "        ...,\n",
            "        [-0.5       , -0.5       , -0.5       , ..., -0.5       ,\n",
            "         -0.5       , -0.5       ],\n",
            "        [-0.5       , -0.5       , -0.49607843, ..., -0.5       ,\n",
            "         -0.5       , -0.5       ],\n",
            "        [-0.5       , -0.5       , -0.5       , ..., -0.5       ,\n",
            "         -0.5       , -0.5       ]],\n",
            "\n",
            "       [[-0.5       , -0.5       , -0.5       , ...,  0.5       ,\n",
            "          0.39411765, -0.35882354],\n",
            "        [-0.5       , -0.5       , -0.5       , ...,  0.5       ,\n",
            "          0.24117647, -0.44509804],\n",
            "        [-0.5       , -0.49215686, -0.4882353 , ...,  0.5       ,\n",
            "          0.07254902, -0.5       ],\n",
            "        ...,\n",
            "        [ 0.5       ,  0.5       ,  0.5       , ...,  0.5       ,\n",
            "          0.11176471, -0.5       ],\n",
            "        [ 0.5       ,  0.5       ,  0.5       , ...,  0.5       ,\n",
            "         -0.02941176, -0.5       ],\n",
            "        [ 0.5       ,  0.5       ,  0.5       , ...,  0.5       ,\n",
            "         -0.15882353, -0.5       ]],\n",
            "\n",
            "       ...,\n",
            "\n",
            "       [[-0.5       , -0.5       , -0.5       , ..., -0.49607843,\n",
            "         -0.5       , -0.5       ],\n",
            "        [-0.5       , -0.5       , -0.5       , ..., -0.4490196 ,\n",
            "         -0.5       , -0.49607843],\n",
            "        [-0.5       , -0.5       , -0.49607843, ..., -0.5       ,\n",
            "         -0.49607843, -0.49607843],\n",
            "        ...,\n",
            "        [-0.5       , -0.5       , -0.49607843, ...,  0.5       ,\n",
            "          0.17843138, -0.4137255 ],\n",
            "        [-0.5       , -0.5       , -0.5       , ..., -0.01764706,\n",
            "         -0.32352942, -0.4764706 ],\n",
            "        [-0.5       , -0.5       , -0.5       , ..., -0.5       ,\n",
            "         -0.5       , -0.5       ]],\n",
            "\n",
            "       [[-0.5       , -0.5       , -0.5       , ...,  0.5       ,\n",
            "          0.5       ,  0.5       ],\n",
            "        [-0.5       , -0.5       , -0.5       , ...,  0.5       ,\n",
            "          0.5       ,  0.5       ],\n",
            "        [-0.5       , -0.5       , -0.5       , ...,  0.5       ,\n",
            "          0.5       ,  0.5       ],\n",
            "        ...,\n",
            "        [-0.3509804 ,  0.0254902 ,  0.47254902, ...,  0.46470588,\n",
            "          0.09607843, -0.21764706],\n",
            "        [-0.5       , -0.40588236, -0.24117647, ..., -0.29215688,\n",
            "         -0.42941177, -0.5       ],\n",
            "        [-0.49607843, -0.49607843, -0.5       , ..., -0.5       ,\n",
            "         -0.49607843, -0.49215686]],\n",
            "\n",
            "       [[-0.5       , -0.5       , -0.5       , ..., -0.5       ,\n",
            "         -0.5       , -0.5       ],\n",
            "        [-0.5       , -0.5       , -0.5       , ..., -0.5       ,\n",
            "         -0.5       , -0.5       ],\n",
            "        [-0.5       , -0.5       , -0.5       , ..., -0.5       ,\n",
            "         -0.5       , -0.5       ],\n",
            "        ...,\n",
            "        [-0.5       , -0.5       , -0.41764706, ..., -0.327451  ,\n",
            "         -0.5       , -0.5       ],\n",
            "        [-0.3       , -0.09215686,  0.35882354, ...,  0.37058824,\n",
            "         -0.08039216, -0.2647059 ],\n",
            "        [ 0.34313726,  0.5       ,  0.45294118, ...,  0.47254902,\n",
            "          0.5       ,  0.24901961]]], dtype=float32), 'train_dataset': array([[[-0.29215688, -0.29215688, -0.28039217, ..., -0.5       ,\n",
            "         -0.5       , -0.5       ],\n",
            "        [ 0.5       ,  0.5       ,  0.5       , ..., -0.49607843,\n",
            "         -0.5       , -0.5       ],\n",
            "        [-0.17450981,  0.17058824,  0.5       , ..., -0.49215686,\n",
            "         -0.5       , -0.5       ],\n",
            "        ...,\n",
            "        [-0.04901961,  0.22156863,  0.5       , ..., -0.5       ,\n",
            "         -0.4882353 , -0.5       ],\n",
            "        [ 0.5       ,  0.5       ,  0.5       , ..., -0.5       ,\n",
            "         -0.49607843, -0.5       ],\n",
            "        [-0.29607844, -0.2882353 , -0.28039217, ..., -0.4882353 ,\n",
            "         -0.5       , -0.5       ]],\n",
            "\n",
            "       [[-0.5       , -0.5       , -0.5       , ..., -0.17058824,\n",
            "         -0.15490197, -0.2647059 ],\n",
            "        [-0.5       , -0.5       , -0.5       , ..., -0.49607843,\n",
            "         -0.5       , -0.5       ],\n",
            "        [-0.5       , -0.5       , -0.5       , ..., -0.48431373,\n",
            "         -0.4882353 , -0.49215686],\n",
            "        ...,\n",
            "        [-0.5       , -0.327451  ,  0.28431374, ..., -0.5       ,\n",
            "         -0.5       , -0.5       ],\n",
            "        [-0.49215686, -0.5       , -0.41764706, ..., -0.5       ,\n",
            "         -0.5       , -0.5       ],\n",
            "        [-0.5       , -0.49215686, -0.49607843, ..., -0.5       ,\n",
            "         -0.5       , -0.5       ]],\n",
            "\n",
            "       [[-0.49607843, -0.48431373, -0.48431373, ..., -0.5       ,\n",
            "         -0.5       , -0.5       ],\n",
            "        [-0.5       , -0.5       , -0.5       , ..., -0.5       ,\n",
            "         -0.5       , -0.5       ],\n",
            "        [-0.3392157 ,  0.10784314, -0.06470589, ..., -0.5       ,\n",
            "         -0.5       , -0.5       ],\n",
            "        ...,\n",
            "        [-0.5       , -0.5       , -0.5       , ...,  0.5       ,\n",
            "          0.5       ,  0.1       ],\n",
            "        [-0.5       , -0.5       , -0.5       , ..., -0.17843138,\n",
            "         -0.06862745, -0.08039216],\n",
            "        [-0.5       , -0.5       , -0.5       , ..., -0.5       ,\n",
            "         -0.5       , -0.5       ]],\n",
            "\n",
            "       ...,\n",
            "\n",
            "       [[-0.5       , -0.5       , -0.5       , ..., -0.49607843,\n",
            "         -0.5       , -0.5       ],\n",
            "        [-0.5       , -0.5       , -0.5       , ..., -0.48431373,\n",
            "         -0.5       , -0.5       ],\n",
            "        [-0.5       , -0.5       , -0.5       , ..., -0.5       ,\n",
            "         -0.5       , -0.5       ],\n",
            "        ...,\n",
            "        [-0.5       , -0.5       , -0.5       , ..., -0.4882353 ,\n",
            "         -0.5       , -0.5       ],\n",
            "        [-0.5       , -0.5       , -0.5       , ..., -0.5       ,\n",
            "         -0.5       , -0.5       ],\n",
            "        [-0.5       , -0.5       , -0.5       , ..., -0.5       ,\n",
            "         -0.5       , -0.5       ]],\n",
            "\n",
            "       [[-0.5       , -0.5       , -0.5       , ...,  0.5       ,\n",
            "          0.32352942, -0.327451  ],\n",
            "        [-0.5       , -0.5       , -0.5       , ...,  0.19411765,\n",
            "         -0.40980393, -0.5       ],\n",
            "        [-0.5       , -0.5       , -0.49607843, ..., -0.5       ,\n",
            "         -0.49607843, -0.49607843],\n",
            "        ...,\n",
            "        [-0.5       , -0.42156863,  0.41764706, ..., -0.5       ,\n",
            "         -0.5       , -0.5       ],\n",
            "        [-0.5       , -0.1627451 ,  0.5       , ..., -0.5       ,\n",
            "         -0.5       , -0.5       ],\n",
            "        [-0.5       ,  0.13137256,  0.5       , ..., -0.5       ,\n",
            "         -0.5       , -0.5       ]],\n",
            "\n",
            "       [[-0.49607843, -0.3392157 , -0.47254902, ..., -0.5       ,\n",
            "         -0.4882353 , -0.5       ],\n",
            "        [ 0.02941176,  0.44509804, -0.10392157, ..., -0.46078432,\n",
            "         -0.49607843, -0.49607843],\n",
            "        [ 0.35490197,  0.37843138, -0.37058824, ..., -0.48039216,\n",
            "         -0.49215686, -0.5       ],\n",
            "        ...,\n",
            "        [ 0.30784315,  0.5       , -0.35490197, ..., -0.29607844,\n",
            "         -0.49607843, -0.5       ],\n",
            "        [-0.13137256,  0.35882354, -0.19019608, ..., -0.5       ,\n",
            "         -0.49215686, -0.5       ],\n",
            "        [-0.5       , -0.40588236, -0.49215686, ..., -0.49215686,\n",
            "         -0.49215686, -0.5       ]]], dtype=float32), 'valid_dataset': array([[[ 0.11176471,  0.41764706,  0.5       , ..., -0.5       ,\n",
            "         -0.5       , -0.5       ],\n",
            "        [ 0.5       ,  0.5       ,  0.49607843, ..., -0.49215686,\n",
            "         -0.5       , -0.5       ],\n",
            "        [ 0.49215686,  0.49607843,  0.48431373, ..., -0.5       ,\n",
            "         -0.5       , -0.5       ],\n",
            "        ...,\n",
            "        [ 0.49215686,  0.49607843,  0.48431373, ..., -0.5       ,\n",
            "         -0.49215686, -0.5       ],\n",
            "        [ 0.5       ,  0.5       ,  0.49607843, ..., -0.49215686,\n",
            "         -0.5       , -0.5       ],\n",
            "        [ 0.10784314,  0.41764706,  0.5       , ..., -0.5       ,\n",
            "         -0.5       , -0.5       ]],\n",
            "\n",
            "       [[-0.5       , -0.5       , -0.5       , ...,  0.49215686,\n",
            "          0.5       ,  0.30784315],\n",
            "        [-0.5       , -0.5       , -0.5       , ...,  0.48039216,\n",
            "          0.5       ,  0.16666667],\n",
            "        [-0.5       , -0.5       , -0.5       , ...,  0.4882353 ,\n",
            "          0.5       ,  0.0372549 ],\n",
            "        ...,\n",
            "        [-0.44117647,  0.33529413,  0.5       , ..., -0.5       ,\n",
            "         -0.5       , -0.5       ],\n",
            "        [-0.5       , -0.3392157 ,  0.31176472, ..., -0.5       ,\n",
            "         -0.5       , -0.5       ],\n",
            "        [-0.49215686, -0.5       , -0.46078432, ..., -0.5       ,\n",
            "         -0.5       , -0.5       ]],\n",
            "\n",
            "       [[-0.49607843, -0.5       , -0.4254902 , ..., -0.5       ,\n",
            "         -0.5       , -0.5       ],\n",
            "        [-0.5       , -0.19803922,  0.4019608 , ..., -0.5       ,\n",
            "         -0.5       , -0.5       ],\n",
            "        [-0.33137256,  0.40980393,  0.5       , ..., -0.5       ,\n",
            "         -0.5       , -0.5       ],\n",
            "        ...,\n",
            "        [-0.5       , -0.5       , -0.5       , ..., -0.5       ,\n",
            "         -0.5       , -0.5       ],\n",
            "        [-0.5       , -0.5       , -0.49607843, ..., -0.5       ,\n",
            "         -0.5       , -0.5       ],\n",
            "        [-0.5       , -0.5       , -0.5       , ..., -0.5       ,\n",
            "         -0.5       , -0.5       ]],\n",
            "\n",
            "       ...,\n",
            "\n",
            "       [[-0.5       , -0.49607843, -0.49215686, ..., -0.49607843,\n",
            "         -0.5       , -0.5       ],\n",
            "        [-0.5       , -0.5       , -0.49215686, ..., -0.49215686,\n",
            "         -0.5       , -0.5       ],\n",
            "        [-0.5       , -0.40980393, -0.2647059 , ...,  0.00588235,\n",
            "         -0.3       , -0.5       ],\n",
            "        ...,\n",
            "        [-0.5       , -0.5       , -0.49607843, ..., -0.5       ,\n",
            "         -0.5       , -0.5       ],\n",
            "        [-0.5       , -0.5       , -0.5       , ..., -0.5       ,\n",
            "         -0.5       , -0.5       ],\n",
            "        [-0.5       , -0.5       , -0.5       , ..., -0.5       ,\n",
            "         -0.5       , -0.5       ]],\n",
            "\n",
            "       [[-0.5       , -0.5       , -0.5       , ...,  0.48039216,\n",
            "          0.48039216,  0.26078433],\n",
            "        [-0.5       , -0.5       , -0.5       , ..., -0.3392157 ,\n",
            "         -0.38235295, -0.45294118],\n",
            "        [-0.5       , -0.5       , -0.5       , ..., -0.49215686,\n",
            "         -0.5       , -0.5       ],\n",
            "        ...,\n",
            "        [-0.5       , -0.5       , -0.5       , ..., -0.5       ,\n",
            "         -0.5       , -0.5       ],\n",
            "        [-0.1392157 , -0.02156863,  0.04509804, ..., -0.5       ,\n",
            "         -0.5       , -0.5       ],\n",
            "        [ 0.03333334,  0.5       ,  0.4764706 , ..., -0.5       ,\n",
            "         -0.5       , -0.5       ]],\n",
            "\n",
            "       [[ 0.5       ,  0.5       ,  0.5       , ...,  0.5       ,\n",
            "          0.5       ,  0.5       ],\n",
            "        [ 0.5       ,  0.5       ,  0.5       , ...,  0.5       ,\n",
            "          0.5       ,  0.5       ],\n",
            "        [ 0.5       ,  0.5       ,  0.5       , ...,  0.5       ,\n",
            "          0.5       ,  0.5       ],\n",
            "        ...,\n",
            "        [ 0.5       ,  0.5       ,  0.5       , ...,  0.5       ,\n",
            "          0.5       ,  0.5       ],\n",
            "        [ 0.5       ,  0.5       ,  0.5       , ...,  0.5       ,\n",
            "          0.5       ,  0.5       ],\n",
            "        [ 0.5       ,  0.5       ,  0.5       , ...,  0.5       ,\n",
            "          0.5       ,  0.5       ]]], dtype=float32)}\n"
          ],
          "name": "stdout"
        }
      ]
    },
    {
      "metadata": {
        "id": "y3-cj1bpmuxc",
        "colab_type": "code",
        "colab": {
          "autoexec": {
            "startup": false,
            "wait_interval": 0
          },
          "base_uri": "https://localhost:8080/",
          "height": 68
        },
        "cellView": "both",
        "outputId": "02bcf521-8f1a-4818-c42d-2bc2abd6ec5b",
        "executionInfo": {
          "status": "ok",
          "timestamp": 1528147918223,
          "user_tz": 420,
          "elapsed": 355,
          "user": {
            "displayName": "Andy Wang",
            "photoUrl": "//lh5.googleusercontent.com/-JeGfHaAYPFk/AAAAAAAAAAI/AAAAAAAAAC8/R0S_QnbtnTs/s50-c-k-no/photo.jpg",
            "userId": "115106824648733097558"
          }
        }
      },
      "cell_type": "code",
      "source": [
        "#pickle_file = 'notMNIST.pickle'\n",
        "\n",
        "#with open(pickle_file, 'rb') as f:\n",
        "#  save = pickle.load(f)\n",
        "  \n",
        "train_dataset = save['train_dataset']\n",
        "train_labels = save['train_labels']\n",
        "valid_dataset = save['valid_dataset']\n",
        "valid_labels = save['valid_labels']\n",
        "test_dataset = save['test_dataset']\n",
        "test_labels = save['test_labels']\n",
        "del save  # hint to help gc free up memory\n",
        "print('Training set', train_dataset.shape, train_labels.shape)\n",
        "print('Validation set', valid_dataset.shape, valid_labels.shape)\n",
        "print('Test set', test_dataset.shape, test_labels.shape)"
      ],
      "execution_count": 30,
      "outputs": [
        {
          "output_type": "stream",
          "text": [
            "Training set (200000, 28, 28) (200000,)\n",
            "Validation set (10000, 28, 28) (10000,)\n",
            "Test set (10000, 28, 28) (10000,)\n"
          ],
          "name": "stdout"
        }
      ]
    },
    {
      "metadata": {
        "id": "L7aHrm6nGDMB",
        "colab_type": "text"
      },
      "cell_type": "markdown",
      "source": [
        "Reformat into a shape that's more adapted to the models we're going to train:\n",
        "- data as a flat matrix,\n",
        "- labels as float 1-hot encodings."
      ]
    },
    {
      "metadata": {
        "id": "IRSyYiIIGIzS",
        "colab_type": "code",
        "colab": {
          "autoexec": {
            "startup": false,
            "wait_interval": 0
          },
          "base_uri": "https://localhost:8080/",
          "height": 68
        },
        "cellView": "both",
        "outputId": "241f5cd1-3785-4320-9e34-c064a5b6c4fe",
        "executionInfo": {
          "status": "ok",
          "timestamp": 1528147918629,
          "user_tz": 420,
          "elapsed": 314,
          "user": {
            "displayName": "Andy Wang",
            "photoUrl": "//lh5.googleusercontent.com/-JeGfHaAYPFk/AAAAAAAAAAI/AAAAAAAAAC8/R0S_QnbtnTs/s50-c-k-no/photo.jpg",
            "userId": "115106824648733097558"
          }
        }
      },
      "cell_type": "code",
      "source": [
        "image_size = 28\n",
        "num_labels = 10\n",
        "\n",
        "def reformat(dataset, labels):\n",
        "  dataset = dataset.reshape((-1, image_size * image_size)).astype(np.float32)\n",
        "  # Map 0 to [1.0, 0.0, 0.0 ...], 1 to [0.0, 1.0, 0.0 ...]\n",
        "  labels = (np.arange(num_labels) == labels[:,None]).astype(np.float32)\n",
        "  return dataset, labels\n",
        "train_dataset, train_labels = reformat(train_dataset, train_labels)\n",
        "valid_dataset, valid_labels = reformat(valid_dataset, valid_labels)\n",
        "test_dataset, test_labels = reformat(test_dataset, test_labels)\n",
        "print('Training set', train_dataset.shape, train_labels.shape)\n",
        "print('Validation set', valid_dataset.shape, valid_labels.shape)\n",
        "print('Test set', test_dataset.shape, test_labels.shape)"
      ],
      "execution_count": 31,
      "outputs": [
        {
          "output_type": "stream",
          "text": [
            "Training set (200000, 784) (200000, 10)\n",
            "Validation set (10000, 784) (10000, 10)\n",
            "Test set (10000, 784) (10000, 10)\n"
          ],
          "name": "stdout"
        }
      ]
    },
    {
      "metadata": {
        "id": "nCLVqyQ5vPPH",
        "colab_type": "text"
      },
      "cell_type": "markdown",
      "source": [
        "We're first going to train a multinomial logistic regression using simple gradient descent.\n",
        "\n",
        "TensorFlow works like this:\n",
        "* First you describe the computation that you want to see performed: what the inputs, the variables, and the operations look like. These get created as nodes over a computation graph. This description is all contained within the block below:\n",
        "\n",
        "      with graph.as_default():\n",
        "          ...\n",
        "\n",
        "* Then you can run the operations on this graph as many times as you want by calling `session.run()`, providing it outputs to fetch from the graph that get returned. This runtime operation is all contained in the block below:\n",
        "\n",
        "      with tf.Session(graph=graph) as session:\n",
        "          ...\n",
        "\n",
        "Let's load all the data into TensorFlow and build the computation graph corresponding to our training:"
      ]
    },
    {
      "metadata": {
        "id": "Nfv39qvtvOl_",
        "colab_type": "code",
        "colab": {
          "autoexec": {
            "startup": false,
            "wait_interval": 0
          }
        },
        "cellView": "both"
      },
      "cell_type": "code",
      "source": [
        "# With gradient descent training, even this much data is prohibitive.\n",
        "# Subset the training data for faster turnaround.\n",
        "train_subset = 10000\n",
        "\n",
        "graph = tf.Graph()\n",
        "with graph.as_default():\n",
        "\n",
        "  # Input data.\n",
        "  # Load the training, validation and test data into constants that are\n",
        "  # attached to the graph.\n",
        "  tf_train_dataset = tf.constant(train_dataset[:train_subset, :])\n",
        "  tf_train_labels = tf.constant(train_labels[:train_subset])\n",
        "  tf_valid_dataset = tf.constant(valid_dataset)\n",
        "  tf_test_dataset = tf.constant(test_dataset)\n",
        "  \n",
        "  # Variables.\n",
        "  # These are the parameters that we are going to be training. The weight\n",
        "  # matrix will be initialized using random values following a (truncated)\n",
        "  # normal distribution. The biases get initialized to zero.\n",
        "  weights = tf.Variable(\n",
        "    tf.truncated_normal([image_size * image_size, num_labels]))\n",
        "  biases = tf.Variable(tf.zeros([num_labels]))\n",
        "  \n",
        "  # Training computation.\n",
        "  # We multiply the inputs with the weight matrix, and add biases. We compute\n",
        "  # the softmax and cross-entropy (it's one operation in TensorFlow, because\n",
        "  # it's very common, and it can be optimized). We take the average of this\n",
        "  # cross-entropy across all training examples: that's our loss.\n",
        "  logits = tf.matmul(tf_train_dataset, weights) + biases\n",
        "  loss = tf.reduce_mean(\n",
        "    tf.nn.softmax_cross_entropy_with_logits(labels=tf_train_labels, logits=logits))\n",
        "  \n",
        "  # Optimizer.\n",
        "  # We are going to find the minimum of this loss using gradient descent.\n",
        "  optimizer = tf.train.GradientDescentOptimizer(0.5).minimize(loss)\n",
        "  \n",
        "  # Predictions for the training, validation, and test data.\n",
        "  # These are not part of training, but merely here so that we can report\n",
        "  # accuracy figures as we train.\n",
        "  train_prediction = tf.nn.softmax(logits)\n",
        "  valid_prediction = tf.nn.softmax(\n",
        "    tf.matmul(tf_valid_dataset, weights) + biases)\n",
        "  test_prediction = tf.nn.softmax(tf.matmul(tf_test_dataset, weights) + biases)"
      ],
      "execution_count": 0,
      "outputs": []
    },
    {
      "metadata": {
        "id": "KQcL4uqISHjP",
        "colab_type": "text"
      },
      "cell_type": "markdown",
      "source": [
        "Let's run this computation and iterate:"
      ]
    },
    {
      "metadata": {
        "id": "z2cjdenH869W",
        "colab_type": "code",
        "colab": {
          "autoexec": {
            "startup": false,
            "wait_interval": 0
          },
          "base_uri": "https://localhost:8080/",
          "height": 510
        },
        "cellView": "both",
        "outputId": "b93dccec-f9a2-44f8-dab8-a04a775d3c79",
        "executionInfo": {
          "status": "ok",
          "timestamp": 1528147954488,
          "user_tz": 420,
          "elapsed": 34812,
          "user": {
            "displayName": "Andy Wang",
            "photoUrl": "//lh5.googleusercontent.com/-JeGfHaAYPFk/AAAAAAAAAAI/AAAAAAAAAC8/R0S_QnbtnTs/s50-c-k-no/photo.jpg",
            "userId": "115106824648733097558"
          }
        }
      },
      "cell_type": "code",
      "source": [
        "num_steps = 801\n",
        "\n",
        "def accuracy(predictions, labels):\n",
        "  return (100.0 * np.sum(np.argmax(predictions, 1) == np.argmax(labels, 1))\n",
        "          / predictions.shape[0])\n",
        "\n",
        "with tf.Session(graph=graph) as session:\n",
        "  # This is a one-time operation which ensures the parameters get initialized as\n",
        "  # we described in the graph: random weights for the matrix, zeros for the\n",
        "  # biases. \n",
        "  tf.global_variables_initializer().run()\n",
        "  print('Initialized')\n",
        "  for step in range(num_steps):\n",
        "    # Run the computations. We tell .run() that we want to run the optimizer,\n",
        "    # and get the loss value and the training predictions returned as numpy\n",
        "    # arrays.\n",
        "    _, l, predictions = session.run([optimizer, loss, train_prediction])\n",
        "    if (step % 100 == 0):\n",
        "      print('Loss at step %d: %f' % (step, l))\n",
        "      print('Training accuracy: %.1f%%' % accuracy(\n",
        "        predictions, train_labels[:train_subset, :]))\n",
        "      # Calling .eval() on valid_prediction is basically like calling run(), but\n",
        "      # just to get that one numpy array. Note that it recomputes all its graph\n",
        "      # dependencies.\n",
        "      print('Validation accuracy: %.1f%%' % accuracy(\n",
        "        valid_prediction.eval(), valid_labels))\n",
        "  print('Test accuracy: %.1f%%' % accuracy(test_prediction.eval(), test_labels))"
      ],
      "execution_count": 33,
      "outputs": [
        {
          "output_type": "stream",
          "text": [
            "Initialized\n",
            "Loss at step 0: 20.772057\n",
            "Training accuracy: 4.6%\n",
            "Validation accuracy: 6.4%\n",
            "Loss at step 100: 2.482198\n",
            "Training accuracy: 71.0%\n",
            "Validation accuracy: 70.7%\n",
            "Loss at step 200: 1.998491\n",
            "Training accuracy: 73.8%\n",
            "Validation accuracy: 73.2%\n",
            "Loss at step 300: 1.731006\n",
            "Training accuracy: 74.9%\n",
            "Validation accuracy: 74.2%\n",
            "Loss at step 400: 1.550075\n",
            "Training accuracy: 76.0%\n",
            "Validation accuracy: 74.7%\n",
            "Loss at step 500: 1.416101\n",
            "Training accuracy: 76.9%\n",
            "Validation accuracy: 75.1%\n",
            "Loss at step 600: 1.311448\n",
            "Training accuracy: 77.4%\n",
            "Validation accuracy: 75.4%\n",
            "Loss at step 700: 1.226554\n",
            "Training accuracy: 77.9%\n",
            "Validation accuracy: 75.6%\n",
            "Loss at step 800: 1.155724\n",
            "Training accuracy: 78.3%\n",
            "Validation accuracy: 75.8%\n",
            "Test accuracy: 83.0%\n"
          ],
          "name": "stdout"
        }
      ]
    },
    {
      "metadata": {
        "id": "x68f-hxRGm3H",
        "colab_type": "text"
      },
      "cell_type": "markdown",
      "source": [
        "Let's now switch to stochastic gradient descent training instead, which is much faster.\n",
        "\n",
        "The graph will be similar, except that instead of holding all the training data into a constant node, we create a `Placeholder` node which will be fed actual data at every call of `session.run()`."
      ]
    },
    {
      "metadata": {
        "id": "qhPMzWYRGrzM",
        "colab_type": "code",
        "colab": {
          "autoexec": {
            "startup": false,
            "wait_interval": 0
          }
        },
        "cellView": "both"
      },
      "cell_type": "code",
      "source": [
        "batch_size = 128\n",
        "\n",
        "graph = tf.Graph()\n",
        "with graph.as_default():\n",
        "\n",
        "  # Input data. For the training data, we use a placeholder that will be fed\n",
        "  # at run time with a training minibatch.\n",
        "  tf_train_dataset = tf.placeholder(tf.float32,\n",
        "                                    shape=(batch_size, image_size * image_size))\n",
        "  tf_train_labels = tf.placeholder(tf.float32, shape=(batch_size, num_labels))\n",
        "  tf_valid_dataset = tf.constant(valid_dataset)\n",
        "  tf_test_dataset = tf.constant(test_dataset)\n",
        "  \n",
        "  # Variables.\n",
        "  weights = tf.Variable(\n",
        "    tf.truncated_normal([image_size * image_size, num_labels]))\n",
        "  biases = tf.Variable(tf.zeros([num_labels]))\n",
        "  \n",
        "  # Training computation.\n",
        "  logits = tf.matmul(tf_train_dataset, weights) + biases\n",
        "  loss = tf.reduce_mean(\n",
        "    tf.nn.softmax_cross_entropy_with_logits(labels=tf_train_labels, logits=logits))\n",
        "  \n",
        "  # Optimizer.\n",
        "  optimizer = tf.train.GradientDescentOptimizer(0.5).minimize(loss)\n",
        "  \n",
        "  # Predictions for the training, validation, and test data.\n",
        "  train_prediction = tf.nn.softmax(logits)\n",
        "  valid_prediction = tf.nn.softmax(\n",
        "    tf.matmul(tf_valid_dataset, weights) + biases)\n",
        "  test_prediction = tf.nn.softmax(tf.matmul(tf_test_dataset, weights) + biases)"
      ],
      "execution_count": 0,
      "outputs": []
    },
    {
      "metadata": {
        "id": "XmVZESmtG4JH",
        "colab_type": "text"
      },
      "cell_type": "markdown",
      "source": [
        "Let's run it:"
      ]
    },
    {
      "metadata": {
        "id": "FoF91pknG_YW",
        "colab_type": "code",
        "colab": {
          "autoexec": {
            "startup": false,
            "wait_interval": 0
          },
          "base_uri": "https://localhost:8080/",
          "height": 408
        },
        "cellView": "both",
        "outputId": "dc6fdd57-9846-4adf-9b63-cd772adad511",
        "executionInfo": {
          "status": "ok",
          "timestamp": 1528147959808,
          "user_tz": 420,
          "elapsed": 4821,
          "user": {
            "displayName": "Andy Wang",
            "photoUrl": "//lh5.googleusercontent.com/-JeGfHaAYPFk/AAAAAAAAAAI/AAAAAAAAAC8/R0S_QnbtnTs/s50-c-k-no/photo.jpg",
            "userId": "115106824648733097558"
          }
        }
      },
      "cell_type": "code",
      "source": [
        "num_steps = 3001\n",
        "\n",
        "with tf.Session(graph=graph) as session:\n",
        "  tf.global_variables_initializer().run()\n",
        "  print(\"Initialized\")\n",
        "  for step in range(num_steps):\n",
        "    # Pick an offset within the training data, which has been randomized.\n",
        "    # Note: we could use better randomization across epochs.\n",
        "    offset = (step * batch_size) % (train_labels.shape[0] - batch_size)\n",
        "    # Generate a minibatch.\n",
        "    batch_data = train_dataset[offset:(offset + batch_size), :]\n",
        "    batch_labels = train_labels[offset:(offset + batch_size), :]\n",
        "    # Prepare a dictionary telling the session where to feed the minibatch.\n",
        "    # The key of the dictionary is the placeholder node of the graph to be fed,\n",
        "    # and the value is the numpy array to feed to it.\n",
        "    feed_dict = {tf_train_dataset : batch_data, tf_train_labels : batch_labels}\n",
        "    _, l, predictions = session.run(\n",
        "      [optimizer, loss, train_prediction], feed_dict=feed_dict)\n",
        "    if (step % 500 == 0):\n",
        "      print(\"Minibatch loss at step %d: %f\" % (step, l))\n",
        "      print(\"Minibatch accuracy: %.1f%%\" % accuracy(predictions, batch_labels))\n",
        "      print(\"Validation accuracy: %.1f%%\" % accuracy(\n",
        "        valid_prediction.eval(), valid_labels))\n",
        "  print(\"Test accuracy: %.1f%%\" % accuracy(test_prediction.eval(), test_labels))"
      ],
      "execution_count": 35,
      "outputs": [
        {
          "output_type": "stream",
          "text": [
            "Initialized\n",
            "Minibatch loss at step 0: 16.353502\n",
            "Minibatch accuracy: 18.0%\n",
            "Validation accuracy: 15.8%\n",
            "Minibatch loss at step 500: 1.552256\n",
            "Minibatch accuracy: 71.9%\n",
            "Validation accuracy: 76.5%\n",
            "Minibatch loss at step 1000: 1.706669\n",
            "Minibatch accuracy: 72.7%\n",
            "Validation accuracy: 76.5%\n",
            "Minibatch loss at step 1500: 1.761350\n",
            "Minibatch accuracy: 73.4%\n",
            "Validation accuracy: 77.8%\n",
            "Minibatch loss at step 2000: 1.079836\n",
            "Minibatch accuracy: 79.7%\n",
            "Validation accuracy: 78.0%\n",
            "Minibatch loss at step 2500: 1.422612\n",
            "Minibatch accuracy: 69.5%\n",
            "Validation accuracy: 78.5%\n",
            "Minibatch loss at step 3000: 0.663191\n",
            "Minibatch accuracy: 75.8%\n",
            "Validation accuracy: 78.7%\n",
            "Test accuracy: 85.0%\n"
          ],
          "name": "stdout"
        }
      ]
    },
    {
      "metadata": {
        "id": "7omWxtvLLxik",
        "colab_type": "text"
      },
      "cell_type": "markdown",
      "source": [
        "---\n",
        "Problem\n",
        "-------\n",
        "\n",
        "Turn the logistic regression example with SGD into a 1-hidden layer neural network with rectified linear units [nn.relu()](https://www.tensorflow.org/versions/r0.7/api_docs/python/nn.html#relu) and 1024 hidden nodes. This model should improve your validation / test accuracy.\n",
        "\n",
        "---"
      ]
    },
    {
      "metadata": {
        "id": "g1_gnSLeEESO",
        "colab_type": "code",
        "colab": {
          "autoexec": {
            "startup": false,
            "wait_interval": 0
          }
        }
      },
      "cell_type": "code",
      "source": [
        "# Pulled from the SGD example above and from help from these stackoverflow posts:\n",
        "# https://stackoverflow.com/questions/35387109/validation-and-test-with-tensorflow\n",
        "# https://stackoverflow.com/questions/38641104/tensorflow-relu-misunderstanding\n",
        "\n",
        "batch_size = 128\n",
        "\n",
        "graph = tf.Graph()\n",
        "with graph.as_default():\n",
        "\n",
        "  # Input data. For the training data, we use a placeholder that will be fed\n",
        "  # at run time with a training minibatch.\n",
        "  tf_train_dataset = tf.placeholder(tf.float32,\n",
        "                                    shape=(batch_size, image_size * image_size))\n",
        "  tf_train_labels = tf.placeholder(tf.float32, shape=(batch_size, num_labels))\n",
        "  tf_valid_dataset = tf.constant(valid_dataset)\n",
        "  tf_test_dataset = tf.constant(test_dataset)\n",
        "    \n",
        "  # Weights and biases for before ReLU, need to transform into a 1024 node layer\n",
        "  weights_pre = tf.Variable(tf.truncated_normal([image_size * image_size, 1024]))\n",
        "  biases_pre = tf.Variable(tf.zeros(1024))\n",
        "  \n",
        "  # Weights and biases for after ReLU, reduce down to label size\n",
        "  weights_post = tf.Variable(tf.truncated_normal([1024, num_labels]))\n",
        "  biases_post = tf.Variable(tf.zeros([num_labels]))\n",
        "  \n",
        "  # Training computation.\n",
        "  hidden = tf.nn.relu(tf.matmul(tf_train_dataset, weights_pre) + biases_pre)\n",
        "  logits = tf.matmul(hidden, weights_post) + biases_post\n",
        "  loss = tf.reduce_mean(\n",
        "    tf.nn.softmax_cross_entropy_with_logits(labels=tf_train_labels, logits=logits))\n",
        "  \n",
        "  # Optimizer.\n",
        "  optimizer = tf.train.GradientDescentOptimizer(0.5).minimize(loss)\n",
        "  \n",
        "  # Predictions for the training dataset\n",
        "  train_prediction = tf.nn.softmax(logits)\n",
        "  \n",
        "  # Predictions for validation dataset\n",
        "  valid_logit = tf.matmul(tf.nn.relu(tf.matmul(tf_valid_dataset, weights_pre) + biases_pre), weights_post) + biases_post\n",
        "  valid_prediction = tf.nn.softmax(valid_logit)\n",
        "  \n",
        "  # Predictions for test dataset\n",
        "  test_logit = tf.matmul(tf.nn.relu(tf.matmul(tf_test_dataset, weights_pre) + biases_pre), weights_post) + biases_post\n",
        "  test_prediction = tf.nn.softmax(test_logit)"
      ],
      "execution_count": 0,
      "outputs": []
    },
    {
      "metadata": {
        "id": "kQW7sX5rEXuG",
        "colab_type": "code",
        "colab": {
          "autoexec": {
            "startup": false,
            "wait_interval": 0
          },
          "base_uri": "https://localhost:8080/",
          "height": 408
        },
        "outputId": "fcda53f6-5723-4751-b51c-e68e6ac0ce49",
        "executionInfo": {
          "status": "ok",
          "timestamp": 1528149206047,
          "user_tz": 420,
          "elapsed": 35239,
          "user": {
            "displayName": "Andy Wang",
            "photoUrl": "//lh5.googleusercontent.com/-JeGfHaAYPFk/AAAAAAAAAAI/AAAAAAAAAC8/R0S_QnbtnTs/s50-c-k-no/photo.jpg",
            "userId": "115106824648733097558"
          }
        }
      },
      "cell_type": "code",
      "source": [
        "num_steps = 3001\n",
        "\n",
        "with tf.Session(graph=graph) as session:\n",
        "  tf.global_variables_initializer().run()\n",
        "  print(\"Initialized\")\n",
        "  for step in range(num_steps):\n",
        "    # Pick an offset within the training data, which has been randomized.\n",
        "    # Note: we could use better randomization across epochs.\n",
        "    offset = (step * batch_size) % (train_labels.shape[0] - batch_size)\n",
        "    # Generate a minibatch.\n",
        "    batch_data = train_dataset[offset:(offset + batch_size), :]\n",
        "    batch_labels = train_labels[offset:(offset + batch_size), :]\n",
        "    # Prepare a dictionary telling the session where to feed the minibatch.\n",
        "    # The key of the dictionary is the placeholder node of the graph to be fed,\n",
        "    # and the value is the numpy array to feed to it.\n",
        "    feed_dict = {tf_train_dataset : batch_data, tf_train_labels : batch_labels}\n",
        "    _, l, predictions = session.run(\n",
        "      [optimizer, loss, train_prediction], feed_dict=feed_dict)\n",
        "    if (step % 500 == 0):\n",
        "      print(\"Minibatch loss at step %d: %f\" % (step, l))\n",
        "      print(\"Minibatch accuracy: %.1f%%\" % accuracy(predictions, batch_labels))\n",
        "      print(\"Validation accuracy: %.1f%%\" % accuracy(\n",
        "        valid_prediction.eval(), valid_labels))\n",
        "  print(\"Test accuracy: %.1f%%\" % accuracy(test_prediction.eval(), test_labels))"
      ],
      "execution_count": 43,
      "outputs": [
        {
          "output_type": "stream",
          "text": [
            "Initialized\n",
            "Minibatch loss at step 0: 345.695312\n",
            "Minibatch accuracy: 13.3%\n",
            "Validation accuracy: 29.7%\n",
            "Minibatch loss at step 500: 13.673294\n",
            "Minibatch accuracy: 77.3%\n",
            "Validation accuracy: 81.0%\n",
            "Minibatch loss at step 1000: 10.878366\n",
            "Minibatch accuracy: 77.3%\n",
            "Validation accuracy: 77.8%\n",
            "Minibatch loss at step 1500: 15.313547\n",
            "Minibatch accuracy: 78.1%\n",
            "Validation accuracy: 79.0%\n",
            "Minibatch loss at step 2000: 3.471573\n",
            "Minibatch accuracy: 86.7%\n",
            "Validation accuracy: 82.0%\n",
            "Minibatch loss at step 2500: 11.154345\n",
            "Minibatch accuracy: 75.0%\n",
            "Validation accuracy: 81.1%\n",
            "Minibatch loss at step 3000: 3.810241\n",
            "Minibatch accuracy: 83.6%\n",
            "Validation accuracy: 82.7%\n",
            "Test accuracy: 88.9%\n"
          ],
          "name": "stdout"
        }
      ]
    }
  ]
}