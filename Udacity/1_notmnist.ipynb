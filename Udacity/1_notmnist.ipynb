{
  "nbformat": 4,
  "nbformat_minor": 0,
  "metadata": {
    "colab": {
      "name": "1_notmnist",
      "version": "0.3.2",
      "views": {},
      "default_view": {},
      "provenance": [],
      "collapsed_sections": []
    }
  },
  "cells": [
    {
      "metadata": {
        "id": "5hIbr52I7Z7U",
        "colab_type": "text"
      },
      "cell_type": "markdown",
      "source": [
        "Deep Learning\n",
        "=============\n",
        "\n",
        "Assignment 1\n",
        "------------\n",
        "\n",
        "The objective of this assignment is to learn about simple data curation practices, and familiarize you with some of the data we'll be reusing later.\n",
        "\n",
        "This notebook uses the [notMNIST](http://yaroslavvb.blogspot.com/2011/09/notmnist-dataset.html) dataset to be used with python experiments. This dataset is designed to look like the classic [MNIST](http://yann.lecun.com/exdb/mnist/) dataset, while looking a little more like real data: it's a harder task, and the data is a lot less 'clean' than MNIST."
      ]
    },
    {
      "metadata": {
        "id": "apJbCsBHl-2A",
        "colab_type": "code",
        "colab": {
          "autoexec": {
            "startup": false,
            "wait_interval": 0
          },
          "base_uri": "https://localhost:8080/",
          "height": 173
        },
        "cellView": "both",
        "outputId": "bf9c6ee3-82b7-471d-9e8a-d23605d3a440",
        "executionInfo": {
          "status": "ok",
          "timestamp": 1527878882890,
          "user_tz": 420,
          "elapsed": 3506,
          "user": {
            "displayName": "Andy Wang",
            "photoUrl": "//lh5.googleusercontent.com/-JeGfHaAYPFk/AAAAAAAAAAI/AAAAAAAAAC8/R0S_QnbtnTs/s50-c-k-no/photo.jpg",
            "userId": "115106824648733097558"
          }
        }
      },
      "cell_type": "code",
      "source": [
        "# Colab runtimes don't include imageio\n",
        "!pip install imageio\n",
        "\n",
        "# These are all the modules we'll be using later. Make sure you can import them\n",
        "# before proceeding further.\n",
        "from __future__ import print_function\n",
        "import imageio\n",
        "import matplotlib.pyplot as plt\n",
        "import numpy as np\n",
        "import os\n",
        "import sys\n",
        "import tarfile\n",
        "from IPython.display import display, Image\n",
        "from sklearn.linear_model import LogisticRegression\n",
        "from six.moves.urllib.request import urlretrieve\n",
        "from six.moves import cPickle as pickle\n",
        "\n",
        "# Config the matplotlib backend as plotting inline in IPython\n",
        "%matplotlib inline"
      ],
      "execution_count": 1,
      "outputs": [
        {
          "output_type": "stream",
          "text": [
            "Collecting imageio\n",
            "\u001b[?25l  Downloading https://files.pythonhosted.org/packages/a7/1d/33c8686072148b3b0fcc12a2e0857dd8316b8ae20a0fa66c8d6a6d01c05c/imageio-2.3.0-py2.py3-none-any.whl (3.3MB)\n",
            "\u001b[K    100% |████████████████████████████████| 3.3MB 4.9MB/s \n",
            "\u001b[?25hRequirement already satisfied: numpy in /usr/local/lib/python2.7/dist-packages (from imageio) (1.14.3)\n",
            "Requirement already satisfied: pillow in /usr/local/lib/python2.7/dist-packages (from imageio) (4.0.0)\n",
            "Requirement already satisfied: olefile in /usr/local/lib/python2.7/dist-packages (from pillow->imageio) (0.45.1)\n",
            "Installing collected packages: imageio\n",
            "Successfully installed imageio-2.3.0\n"
          ],
          "name": "stdout"
        }
      ]
    },
    {
      "metadata": {
        "id": "jNWGtZaXn-5j",
        "colab_type": "text"
      },
      "cell_type": "markdown",
      "source": [
        "First, we'll download the dataset to our local machine. The data consists of characters rendered in a variety of fonts on a 28x28 image. The labels are limited to 'A' through 'J' (10 classes). The training set has about 500k and the testset 19000 labeled examples. Given these sizes, it should be possible to train models quickly on any machine."
      ]
    },
    {
      "metadata": {
        "id": "EYRJ4ICW6-da",
        "colab_type": "code",
        "colab": {
          "autoexec": {
            "startup": false,
            "wait_interval": 0
          },
          "base_uri": "https://localhost:8080/",
          "height": 173
        },
        "cellView": "both",
        "outputId": "5141d831-e7aa-48aa-b132-c1dfa72c948f",
        "executionInfo": {
          "status": "ok",
          "timestamp": 1527624860974,
          "user_tz": 420,
          "elapsed": 3131,
          "user": {
            "displayName": "Andy Wang",
            "photoUrl": "//lh5.googleusercontent.com/-JeGfHaAYPFk/AAAAAAAAAAI/AAAAAAAAAC8/R0S_QnbtnTs/s50-c-k-no/photo.jpg",
            "userId": "115106824648733097558"
          }
        }
      },
      "cell_type": "code",
      "source": [
        "url = 'https://commondatastorage.googleapis.com/books1000/'\n",
        "last_percent_reported = None\n",
        "data_root = '.' # Change me to store data elsewhere\n",
        "\n",
        "def download_progress_hook(count, blockSize, totalSize):\n",
        "  \"\"\"A hook to report the progress of a download. This is mostly intended for users with\n",
        "  slow internet connections. Reports every 5% change in download progress.\n",
        "  \"\"\"\n",
        "  global last_percent_reported\n",
        "  percent = int(count * blockSize * 100 / totalSize)\n",
        "\n",
        "  if last_percent_reported != percent:\n",
        "    if percent % 5 == 0:\n",
        "      sys.stdout.write(\"%s%%\" % percent)\n",
        "      sys.stdout.flush()\n",
        "    else:\n",
        "      sys.stdout.write(\".\")\n",
        "      sys.stdout.flush()\n",
        "      \n",
        "    last_percent_reported = percent\n",
        "        \n",
        "def maybe_download(filename, expected_bytes, force=False):\n",
        "  \"\"\"Download a file if not present, and make sure it's the right size.\"\"\"\n",
        "  dest_filename = os.path.join(data_root, filename)\n",
        "  if force or not os.path.exists(dest_filename):\n",
        "    print('Attempting to download:', filename) \n",
        "    filename, _ = urlretrieve(url + filename, dest_filename, reporthook=download_progress_hook)\n",
        "    print('\\nDownload Complete!')\n",
        "  statinfo = os.stat(dest_filename)\n",
        "  if statinfo.st_size == expected_bytes:\n",
        "    print('Found and verified', dest_filename)\n",
        "  else:\n",
        "    raise Exception(\n",
        "      'Failed to verify ' + dest_filename + '. Can you get to it with a browser?')\n",
        "  return dest_filename\n",
        "\n",
        "train_filename = maybe_download('notMNIST_large.tar.gz', 247336696)\n",
        "test_filename = maybe_download('notMNIST_small.tar.gz', 8458043)"
      ],
      "execution_count": 4,
      "outputs": [
        {
          "output_type": "stream",
          "text": [
            "Attempting to download: notMNIST_large.tar.gz\n",
            "0%....5%....10%....15%....20%....25%....30%....35%....40%....45%....50%....55%....60%....65%....70%....75%....80%....85%....90%....95%....100%\n",
            "Download Complete!\n",
            "Found and verified ./notMNIST_large.tar.gz\n",
            "Attempting to download: notMNIST_small.tar.gz\n",
            "0%....5%....10%....15%....20%....25%....30%....35%....40%....45%....50%....55%....60%....65%....70%....75%....80%....85%....90%....95%....100%\n",
            "Download Complete!\n",
            "Found and verified ./notMNIST_small.tar.gz\n"
          ],
          "name": "stdout"
        }
      ]
    },
    {
      "metadata": {
        "id": "cC3p0oEyF8QT",
        "colab_type": "text"
      },
      "cell_type": "markdown",
      "source": [
        "Extract the dataset from the compressed .tar.gz file.\n",
        "This should give you a set of directories, labeled A through J."
      ]
    },
    {
      "metadata": {
        "id": "H8CBE-WZ8nmj",
        "colab_type": "code",
        "colab": {
          "autoexec": {
            "startup": false,
            "wait_interval": 0
          },
          "base_uri": "https://localhost:8080/",
          "height": 105
        },
        "cellView": "both",
        "outputId": "c8268bb8-c260-42d9-a835-85f6f5934c5a",
        "executionInfo": {
          "status": "ok",
          "timestamp": 1527625006299,
          "user_tz": 420,
          "elapsed": 145299,
          "user": {
            "displayName": "Andy Wang",
            "photoUrl": "//lh5.googleusercontent.com/-JeGfHaAYPFk/AAAAAAAAAAI/AAAAAAAAAC8/R0S_QnbtnTs/s50-c-k-no/photo.jpg",
            "userId": "115106824648733097558"
          }
        }
      },
      "cell_type": "code",
      "source": [
        "num_classes = 10\n",
        "np.random.seed(133)\n",
        "\n",
        "def maybe_extract(filename, force=False):\n",
        "  root = os.path.splitext(os.path.splitext(filename)[0])[0]  # remove .tar.gz\n",
        "  if os.path.isdir(root) and not force:\n",
        "    # You may override by setting force=True.\n",
        "    print('%s already present - Skipping extraction of %s.' % (root, filename))\n",
        "  else:\n",
        "    print('Extracting data for %s. This may take a while. Please wait.' % root)\n",
        "    tar = tarfile.open(filename)\n",
        "    sys.stdout.flush()\n",
        "    tar.extractall(data_root)\n",
        "    tar.close()\n",
        "  data_folders = [\n",
        "    os.path.join(root, d) for d in sorted(os.listdir(root))\n",
        "    if os.path.isdir(os.path.join(root, d))]\n",
        "  if len(data_folders) != num_classes:\n",
        "    raise Exception(\n",
        "      'Expected %d folders, one per class. Found %d instead.' % (\n",
        "        num_classes, len(data_folders)))\n",
        "  print(data_folders)\n",
        "  return data_folders\n",
        "  \n",
        "train_folders = maybe_extract(train_filename)\n",
        "test_folders = maybe_extract(test_filename)"
      ],
      "execution_count": 5,
      "outputs": [
        {
          "output_type": "stream",
          "text": [
            "Extracting data for ./notMNIST_large. This may take a while. Please wait.\n",
            "['./notMNIST_large/A', './notMNIST_large/B', './notMNIST_large/C', './notMNIST_large/D', './notMNIST_large/E', './notMNIST_large/F', './notMNIST_large/G', './notMNIST_large/H', './notMNIST_large/I', './notMNIST_large/J']\n",
            "Extracting data for ./notMNIST_small. This may take a while. Please wait.\n",
            "['./notMNIST_small/A', './notMNIST_small/B', './notMNIST_small/C', './notMNIST_small/D', './notMNIST_small/E', './notMNIST_small/F', './notMNIST_small/G', './notMNIST_small/H', './notMNIST_small/I', './notMNIST_small/J']\n"
          ],
          "name": "stdout"
        }
      ]
    },
    {
      "metadata": {
        "id": "4riXK3IoHgx6",
        "colab_type": "text"
      },
      "cell_type": "markdown",
      "source": [
        "---\n",
        "Problem 1\n",
        "---------\n",
        "\n",
        "Let's take a peek at some of the data to make sure it looks sensible. Each exemplar should be an image of a character A through J rendered in a different font. Display a sample of the images that we just downloaded. Hint: you can use the package IPython.display.\n",
        "\n",
        "---"
      ]
    },
    {
      "metadata": {
        "id": "PBdkjESPK8tw",
        "colab_type": "text"
      },
      "cell_type": "markdown",
      "source": [
        "Now let's load the data in a more manageable format. Since, depending on your computer setup you might not be able to fit it all in memory, we'll load each class into a separate dataset, store them on disk and curate them independently. Later we'll merge them into a single dataset of manageable size.\n",
        "\n",
        "We'll convert the entire dataset into a 3D array (image index, x, y) of floating point values, normalized to have approximately zero mean and standard deviation ~0.5 to make training easier down the road. \n",
        "\n",
        "A few images might not be readable, we'll just skip them."
      ]
    },
    {
      "metadata": {
        "id": "h7q0XhG3MJdf",
        "colab_type": "code",
        "colab": {
          "autoexec": {
            "startup": false,
            "wait_interval": 0
          },
          "base_uri": "https://localhost:8080/",
          "height": 1856
        },
        "cellView": "both",
        "outputId": "65e37f23-2187-4093-d71f-3c9753e1643b",
        "executionInfo": {
          "status": "ok",
          "timestamp": 1527625333569,
          "user_tz": 420,
          "elapsed": 327249,
          "user": {
            "displayName": "Andy Wang",
            "photoUrl": "//lh5.googleusercontent.com/-JeGfHaAYPFk/AAAAAAAAAAI/AAAAAAAAAC8/R0S_QnbtnTs/s50-c-k-no/photo.jpg",
            "userId": "115106824648733097558"
          }
        }
      },
      "cell_type": "code",
      "source": [
        "image_size = 28  # Pixel width and height.\n",
        "pixel_depth = 255.0  # Number of levels per pixel.\n",
        "\n",
        "def load_letter(folder, min_num_images):\n",
        "  \"\"\"Load the data for a single letter label.\"\"\"\n",
        "  image_files = os.listdir(folder)\n",
        "  dataset = np.ndarray(shape=(len(image_files), image_size, image_size),\n",
        "                         dtype=np.float32)\n",
        "  print(folder)\n",
        "  num_images = 0\n",
        "  for image in image_files:\n",
        "    image_file = os.path.join(folder, image)\n",
        "    try:\n",
        "      image_data = (imageio.imread(image_file).astype(float) - \n",
        "                    pixel_depth / 2) / pixel_depth\n",
        "      if image_data.shape != (image_size, image_size):\n",
        "        raise Exception('Unexpected image shape: %s' % str(image_data.shape))\n",
        "      dataset[num_images, :, :] = image_data\n",
        "      num_images = num_images + 1\n",
        "    except (IOError, ValueError) as e:\n",
        "      print('Could not read:', image_file, ':', e, '- it\\'s ok, skipping.')\n",
        "    \n",
        "  dataset = dataset[0:num_images, :, :]\n",
        "  if num_images < min_num_images:\n",
        "    raise Exception('Many fewer images than expected: %d < %d' %\n",
        "                    (num_images, min_num_images))\n",
        "    \n",
        "  print('Full dataset tensor:', dataset.shape)\n",
        "  print('Mean:', np.mean(dataset))\n",
        "  print('Standard deviation:', np.std(dataset))\n",
        "  return dataset\n",
        "        \n",
        "def maybe_pickle(data_folders, min_num_images_per_class, force=False):\n",
        "  dataset_names = []\n",
        "  for folder in data_folders:\n",
        "    set_filename = folder + '.pickle'\n",
        "    dataset_names.append(set_filename)\n",
        "    if os.path.exists(set_filename) and not force:\n",
        "      # You may override by setting force=True.\n",
        "      print('%s already present - Skipping pickling.' % set_filename)\n",
        "    else:\n",
        "      print('Pickling %s.' % set_filename)\n",
        "      dataset = load_letter(folder, min_num_images_per_class)\n",
        "      try:\n",
        "        with open(set_filename, 'wb') as f:\n",
        "          pickle.dump(dataset, f, pickle.HIGHEST_PROTOCOL)\n",
        "      except Exception as e:\n",
        "        print('Unable to save data to', set_filename, ':', e)\n",
        "  \n",
        "  return dataset_names\n",
        "\n",
        "train_datasets = maybe_pickle(train_folders, 45000)\n",
        "test_datasets = maybe_pickle(test_folders, 1800)"
      ],
      "execution_count": 6,
      "outputs": [
        {
          "output_type": "stream",
          "text": [
            "Pickling ./notMNIST_large/A.pickle.\n",
            "./notMNIST_large/A\n",
            "Could not read: ./notMNIST_large/A/Um9tYW5hIEJvbGQucGZi.png : Could not find a format to read the specified file in mode 'i' - it's ok, skipping.\n",
            "Could not read: ./notMNIST_large/A/RnJlaWdodERpc3BCb29rSXRhbGljLnR0Zg==.png : Could not find a format to read the specified file in mode 'i' - it's ok, skipping.\n",
            "Could not read: ./notMNIST_large/A/SG90IE11c3RhcmQgQlROIFBvc3Rlci50dGY=.png : Could not find a format to read the specified file in mode 'i' - it's ok, skipping.\n",
            "Full dataset tensor: (52909, 28, 28)\n",
            "Mean: -0.12825032\n",
            "Standard deviation: 0.44312078\n",
            "Pickling ./notMNIST_large/B.pickle.\n",
            "./notMNIST_large/B\n",
            "Could not read: ./notMNIST_large/B/TmlraXNFRi1TZW1pQm9sZEl0YWxpYy5vdGY=.png : Could not find a format to read the specified file in mode 'i' - it's ok, skipping.\n",
            "Full dataset tensor: (52911, 28, 28)\n",
            "Mean: -0.0075630527\n",
            "Standard deviation: 0.45449123\n",
            "Pickling ./notMNIST_large/C.pickle.\n",
            "./notMNIST_large/C\n",
            "Full dataset tensor: (52912, 28, 28)\n",
            "Mean: -0.14225833\n",
            "Standard deviation: 0.43980616\n",
            "Pickling ./notMNIST_large/D.pickle.\n",
            "./notMNIST_large/D\n",
            "Could not read: ./notMNIST_large/D/VHJhbnNpdCBCb2xkLnR0Zg==.png : Could not find a format to read the specified file in mode 'i' - it's ok, skipping.\n",
            "Full dataset tensor: (52911, 28, 28)\n",
            "Mean: -0.057367664\n",
            "Standard deviation: 0.45564738\n",
            "Pickling ./notMNIST_large/E.pickle.\n",
            "./notMNIST_large/E\n",
            "Full dataset tensor: (52912, 28, 28)\n",
            "Mean: -0.069899105\n",
            "Standard deviation: 0.4529416\n",
            "Pickling ./notMNIST_large/F.pickle.\n",
            "./notMNIST_large/F\n",
            "Full dataset tensor: (52912, 28, 28)\n",
            "Mean: -0.12558329\n",
            "Standard deviation: 0.44708928\n",
            "Pickling ./notMNIST_large/G.pickle.\n",
            "./notMNIST_large/G\n",
            "Full dataset tensor: (52912, 28, 28)\n",
            "Mean: -0.09458158\n",
            "Standard deviation: 0.4462402\n",
            "Pickling ./notMNIST_large/H.pickle.\n",
            "./notMNIST_large/H\n",
            "Full dataset tensor: (52912, 28, 28)\n",
            "Mean: -0.068522125\n",
            "Standard deviation: 0.45423153\n",
            "Pickling ./notMNIST_large/I.pickle.\n",
            "./notMNIST_large/I\n",
            "Full dataset tensor: (52912, 28, 28)\n",
            "Mean: 0.030786183\n",
            "Standard deviation: 0.46889877\n",
            "Pickling ./notMNIST_large/J.pickle.\n",
            "./notMNIST_large/J\n",
            "Full dataset tensor: (52911, 28, 28)\n",
            "Mean: -0.15335853\n",
            "Standard deviation: 0.44365668\n",
            "Pickling ./notMNIST_small/A.pickle.\n",
            "./notMNIST_small/A\n",
            "Could not read: ./notMNIST_small/A/RGVtb2NyYXRpY2FCb2xkT2xkc3R5bGUgQm9sZC50dGY=.png : Could not find a format to read the specified file in mode 'i' - it's ok, skipping.\n",
            "Full dataset tensor: (1872, 28, 28)\n",
            "Mean: -0.13262638\n",
            "Standard deviation: 0.44512787\n",
            "Pickling ./notMNIST_small/B.pickle.\n",
            "./notMNIST_small/B\n",
            "Full dataset tensor: (1873, 28, 28)\n",
            "Mean: 0.0053560827\n",
            "Standard deviation: 0.45711535\n",
            "Pickling ./notMNIST_small/C.pickle.\n",
            "./notMNIST_small/C\n",
            "Full dataset tensor: (1873, 28, 28)\n",
            "Mean: -0.14152056\n",
            "Standard deviation: 0.44269025\n",
            "Pickling ./notMNIST_small/D.pickle.\n",
            "./notMNIST_small/D\n",
            "Full dataset tensor: (1873, 28, 28)\n",
            "Mean: -0.049216673\n",
            "Standard deviation: 0.45975894\n",
            "Pickling ./notMNIST_small/E.pickle.\n",
            "./notMNIST_small/E\n",
            "Full dataset tensor: (1873, 28, 28)\n",
            "Mean: -0.05991475\n",
            "Standard deviation: 0.45734963\n",
            "Pickling ./notMNIST_small/F.pickle.\n",
            "./notMNIST_small/F\n",
            "Could not read: ./notMNIST_small/F/Q3Jvc3NvdmVyIEJvbGRPYmxpcXVlLnR0Zg==.png : Could not find a format to read the specified file in mode 'i' - it's ok, skipping.\n",
            "Full dataset tensor: (1872, 28, 28)\n",
            "Mean: -0.11818531\n",
            "Standard deviation: 0.4522785\n",
            "Pickling ./notMNIST_small/G.pickle.\n",
            "./notMNIST_small/G\n",
            "Full dataset tensor: (1872, 28, 28)\n",
            "Mean: -0.09255029\n",
            "Standard deviation: 0.44900584\n",
            "Pickling ./notMNIST_small/H.pickle.\n",
            "./notMNIST_small/H\n",
            "Full dataset tensor: (1872, 28, 28)\n",
            "Mean: -0.05868925\n",
            "Standard deviation: 0.45875898\n",
            "Pickling ./notMNIST_small/I.pickle.\n",
            "./notMNIST_small/I\n",
            "Full dataset tensor: (1872, 28, 28)\n",
            "Mean: 0.05264507\n",
            "Standard deviation: 0.4718935\n",
            "Pickling ./notMNIST_small/J.pickle.\n",
            "./notMNIST_small/J\n",
            "Full dataset tensor: (1872, 28, 28)\n",
            "Mean: -0.1516892\n",
            "Standard deviation: 0.44801357\n"
          ],
          "name": "stdout"
        }
      ]
    },
    {
      "metadata": {
        "id": "rUVEqKWvCWZ8",
        "colab_type": "code",
        "colab": {
          "autoexec": {
            "startup": false,
            "wait_interval": 0
          },
          "base_uri": "https://localhost:8080/",
          "height": 297
        },
        "outputId": "a274cdb2-501f-4c2b-90a7-d869e5d37f58",
        "executionInfo": {
          "status": "ok",
          "timestamp": 1527625334048,
          "user_tz": 420,
          "elapsed": 457,
          "user": {
            "displayName": "Andy Wang",
            "photoUrl": "//lh5.googleusercontent.com/-JeGfHaAYPFk/AAAAAAAAAAI/AAAAAAAAAC8/R0S_QnbtnTs/s50-c-k-no/photo.jpg",
            "userId": "115106824648733097558"
          }
        }
      },
      "cell_type": "code",
      "source": [
        "from IPython.display import Image\n",
        "\n",
        "#print(os.listdir(\"./notMNIST_small/C\"))\n",
        "for dirs in os.listdir(\"./notMNIST_small\"):\n",
        "  if dirs.endswith(\".pickle\"): #skip pickles\n",
        "    continue\n",
        "  path = \"./notMNIST_small/\" + dirs\n",
        "  display(Image(\"./notMNIST_small/\" + dirs + '/' + os.listdir(path)[40]))"
      ],
      "execution_count": 7,
      "outputs": [
        {
          "output_type": "display_data",
          "data": {
            "image/png": "[encoded data removed]",
            "text/plain": [
              "<IPython.core.display.Image object>"
            ]
          },
          "metadata": {
            "tags": []
          }
        },
        {
          "output_type": "display_data",
          "data": {
            "image/png": "[encoded data removed]",
            "text/plain": [
              "<IPython.core.display.Image object>"
            ]
          },
          "metadata": {
            "tags": []
          }
        },
        {
          "output_type": "display_data",
          "data": {
            "image/png": "[encoded data removed]",
            "text/plain": [
              "<IPython.core.display.Image object>"
            ]
          },
          "metadata": {
            "tags": []
          }
        },
        {
          "output_type": "display_data",
          "data": {
            "image/png": "[encoded data removed]",
            "text/plain": [
              "<IPython.core.display.Image object>"
            ]
          },
          "metadata": {
            "tags": []
          }
        },
        {
          "output_type": "display_data",
          "data": {
            "image/png": "[encoded data removed]",
            "text/plain": [
              "<IPython.core.display.Image object>"
            ]
          },
          "metadata": {
            "tags": []
          }
        },
        {
          "output_type": "display_data",
          "data": {
            "image/png": "[encoded data removed]",
            "text/plain": [
              "<IPython.core.display.Image object>"
            ]
          },
          "metadata": {
            "tags": []
          }
        },
        {
          "output_type": "display_data",
          "data": {
            "image/png": "[encoded data removed]",
            "text/plain": [
              "<IPython.core.display.Image object>"
            ]
          },
          "metadata": {
            "tags": []
          }
        },
        {
          "output_type": "display_data",
          "data": {
            "image/png": "[encoded data removed]",
            "text/plain": [
              "<IPython.core.display.Image object>"
            ]
          },
          "metadata": {
            "tags": []
          }
        },
        {
          "output_type": "display_data",
          "data": {
            "image/png": "[encoded data removed]",
            "text/plain": [
              "<IPython.core.display.Image object>"
            ]
          },
          "metadata": {
            "tags": []
          }
        },
        {
          "output_type": "display_data",
          "data": {
            "image/png": "[encoded data removed]",
            "text/plain": [
              "<IPython.core.display.Image object>"
            ]
          },
          "metadata": {
            "tags": []
          }
        }
      ]
    },
    {
      "metadata": {
        "id": "vUdbskYE2d87",
        "colab_type": "text"
      },
      "cell_type": "markdown",
      "source": [
        "---\n",
        "Problem 2\n",
        "---------\n",
        "\n",
        "Let's verify that the data still looks good. Displaying a sample of the labels and images from the ndarray. Hint: you can use matplotlib.pyplot.\n",
        "\n",
        "---"
      ]
    },
    {
      "metadata": {
        "id": "L50p5Qj1H-7H",
        "colab_type": "code",
        "colab": {
          "autoexec": {
            "startup": false,
            "wait_interval": 0
          },
          "base_uri": "https://localhost:8080/",
          "height": 227
        },
        "outputId": "634c60c7-c0e7-4134-ff73-1deb431e1ed7",
        "executionInfo": {
          "status": "ok",
          "timestamp": 1527626875302,
          "user_tz": 420,
          "elapsed": 886,
          "user": {
            "displayName": "Andy Wang",
            "photoUrl": "//lh5.googleusercontent.com/-JeGfHaAYPFk/AAAAAAAAAAI/AAAAAAAAAC8/R0S_QnbtnTs/s50-c-k-no/photo.jpg",
            "userId": "115106824648733097558"
          }
        }
      },
      "cell_type": "code",
      "source": [
        "import matplotlib.pyplot as plt\n",
        "\n",
        "fig = plt.figure()\n",
        "columns = 5\n",
        "rows = 2\n",
        "for pickles in test_datasets:\n",
        "  pickle_in = open(pickles, \"rb\")\n",
        "  nparry = pickle.load(pickle_in)\n",
        "  fig.add_subplot(rows, columns, test_datasets.index(pickles) + 1)\n",
        "  plt.imshow(nparry[90])\n",
        "plt.show()\n",
        "  "
      ],
      "execution_count": 21,
      "outputs": [
        {
          "output_type": "display_data",
          "data": {
            "image/png": "[encoded data removed]",
            "text/plain": [
              "<matplotlib.figure.Figure at 0x7f6c8bc10410>"
            ]
          },
          "metadata": {
            "tags": []
          }
        }
      ]
    },
    {
      "metadata": {
        "id": "cYznx5jUwzoO",
        "colab_type": "text"
      },
      "cell_type": "markdown",
      "source": [
        "---\n",
        "Problem 3\n",
        "---------\n",
        "Another check: we expect the data to be balanced across classes. Verify that.\n",
        "\n",
        "---"
      ]
    },
    {
      "metadata": {
        "id": "lrBGw5d0qhyR",
        "colab_type": "code",
        "colab": {
          "autoexec": {
            "startup": false,
            "wait_interval": 0
          },
          "base_uri": "https://localhost:8080/",
          "height": 187
        },
        "outputId": "f7c8d4bf-aea9-4b37-ad02-8e9a897573a7",
        "executionInfo": {
          "status": "ok",
          "timestamp": 1527627179714,
          "user_tz": 420,
          "elapsed": 261,
          "user": {
            "displayName": "Andy Wang",
            "photoUrl": "//lh5.googleusercontent.com/-JeGfHaAYPFk/AAAAAAAAAAI/AAAAAAAAAC8/R0S_QnbtnTs/s50-c-k-no/photo.jpg",
            "userId": "115106824648733097558"
          }
        }
      },
      "cell_type": "code",
      "source": [
        "for pickles in test_datasets:\n",
        "  pickle_in = open(pickles, 'rb')\n",
        "  nparry = pickle.load(pickle_in)\n",
        "  print(pickles + ':' + str(nparry.size))"
      ],
      "execution_count": 24,
      "outputs": [
        {
          "output_type": "stream",
          "text": [
            "./notMNIST_small/A.pickle:1467648\n",
            "./notMNIST_small/B.pickle:1468432\n",
            "./notMNIST_small/C.pickle:1468432\n",
            "./notMNIST_small/D.pickle:1468432\n",
            "./notMNIST_small/E.pickle:1468432\n",
            "./notMNIST_small/F.pickle:1467648\n",
            "./notMNIST_small/G.pickle:1467648\n",
            "./notMNIST_small/H.pickle:1467648\n",
            "./notMNIST_small/I.pickle:1467648\n",
            "./notMNIST_small/J.pickle:1467648\n"
          ],
          "name": "stdout"
        }
      ]
    },
    {
      "metadata": {
        "id": "LA7M7K22ynCt",
        "colab_type": "text"
      },
      "cell_type": "markdown",
      "source": [
        "Merge and prune the training data as needed. Depending on your computer setup, you might not be able to fit it all in memory, and you can tune `train_size` as needed. The labels will be stored into a separate array of integers 0 through 9.\n",
        "\n",
        "Also create a validation dataset for hyperparameter tuning."
      ]
    },
    {
      "metadata": {
        "id": "s3mWgZLpyuzq",
        "colab_type": "code",
        "colab": {
          "autoexec": {
            "startup": false,
            "wait_interval": 0
          },
          "base_uri": "https://localhost:8080/",
          "height": 68
        },
        "cellView": "both",
        "outputId": "cabe303e-4d02-49af-f55c-1390616c9d62",
        "executionInfo": {
          "status": "ok",
          "timestamp": 1527627260526,
          "user_tz": 420,
          "elapsed": 24818,
          "user": {
            "displayName": "Andy Wang",
            "photoUrl": "//lh5.googleusercontent.com/-JeGfHaAYPFk/AAAAAAAAAAI/AAAAAAAAAC8/R0S_QnbtnTs/s50-c-k-no/photo.jpg",
            "userId": "115106824648733097558"
          }
        }
      },
      "cell_type": "code",
      "source": [
        "def make_arrays(nb_rows, img_size):\n",
        "  if nb_rows:\n",
        "    dataset = np.ndarray((nb_rows, img_size, img_size), dtype=np.float32)\n",
        "    labels = np.ndarray(nb_rows, dtype=np.int32)\n",
        "  else:\n",
        "    dataset, labels = None, None\n",
        "  return dataset, labels\n",
        "\n",
        "def merge_datasets(pickle_files, train_size, valid_size=0):\n",
        "  num_classes = len(pickle_files)\n",
        "  valid_dataset, valid_labels = make_arrays(valid_size, image_size)\n",
        "  train_dataset, train_labels = make_arrays(train_size, image_size)\n",
        "  vsize_per_class = valid_size // num_classes\n",
        "  tsize_per_class = train_size // num_classes\n",
        "    \n",
        "  start_v, start_t = 0, 0\n",
        "  end_v, end_t = vsize_per_class, tsize_per_class\n",
        "  end_l = vsize_per_class+tsize_per_class\n",
        "  for label, pickle_file in enumerate(pickle_files):       \n",
        "    try:\n",
        "      with open(pickle_file, 'rb') as f:\n",
        "        letter_set = pickle.load(f)\n",
        "        # let's shuffle the letters to have random validation and training set\n",
        "        np.random.shuffle(letter_set)\n",
        "        if valid_dataset is not None:\n",
        "          valid_letter = letter_set[:vsize_per_class, :, :]\n",
        "          valid_dataset[start_v:end_v, :, :] = valid_letter\n",
        "          valid_labels[start_v:end_v] = label\n",
        "          start_v += vsize_per_class\n",
        "          end_v += vsize_per_class\n",
        "                    \n",
        "        train_letter = letter_set[vsize_per_class:end_l, :, :]\n",
        "        train_dataset[start_t:end_t, :, :] = train_letter\n",
        "        train_labels[start_t:end_t] = label\n",
        "        start_t += tsize_per_class\n",
        "        end_t += tsize_per_class\n",
        "    except Exception as e:\n",
        "      print('Unable to process data from', pickle_file, ':', e)\n",
        "      raise\n",
        "    \n",
        "  return valid_dataset, valid_labels, train_dataset, train_labels\n",
        "            \n",
        "            \n",
        "train_size = 200000\n",
        "valid_size = 10000\n",
        "test_size = 10000\n",
        "\n",
        "valid_dataset, valid_labels, train_dataset, train_labels = merge_datasets(\n",
        "  train_datasets, train_size, valid_size)\n",
        "_, _, test_dataset, test_labels = merge_datasets(test_datasets, test_size)\n",
        "\n",
        "print('Training:', train_dataset.shape, train_labels.shape)\n",
        "print('Validation:', valid_dataset.shape, valid_labels.shape)\n",
        "print('Testing:', test_dataset.shape, test_labels.shape)"
      ],
      "execution_count": 25,
      "outputs": [
        {
          "output_type": "stream",
          "text": [
            "Training: (200000, 28, 28) (200000,)\n",
            "Validation: (10000, 28, 28) (10000,)\n",
            "Testing: (10000, 28, 28) (10000,)\n"
          ],
          "name": "stdout"
        }
      ]
    },
    {
      "metadata": {
        "id": "GPTCnjIcyuKN",
        "colab_type": "text"
      },
      "cell_type": "markdown",
      "source": [
        "Next, we'll randomize the data. It's important to have the labels well shuffled for the training and test distributions to match."
      ]
    },
    {
      "metadata": {
        "id": "6WZ2l2tN2zOL",
        "colab_type": "code",
        "colab": {
          "autoexec": {
            "startup": false,
            "wait_interval": 0
          }
        },
        "cellView": "both"
      },
      "cell_type": "code",
      "source": [
        "def randomize(dataset, labels):\n",
        "  permutation = np.random.permutation(labels.shape[0])\n",
        "  shuffled_dataset = dataset[permutation,:,:]\n",
        "  shuffled_labels = labels[permutation]\n",
        "  return shuffled_dataset, shuffled_labels\n",
        "train_dataset, train_labels = randomize(train_dataset, train_labels)\n",
        "test_dataset, test_labels = randomize(test_dataset, test_labels)\n",
        "valid_dataset, valid_labels = randomize(valid_dataset, valid_labels)"
      ],
      "execution_count": 0,
      "outputs": []
    },
    {
      "metadata": {
        "id": "puDUTe6t6USl",
        "colab_type": "text"
      },
      "cell_type": "markdown",
      "source": [
        "---\n",
        "Problem 4\n",
        "---------\n",
        "Convince yourself that the data is still good after shuffling!\n",
        "\n",
        "---"
      ]
    },
    {
      "metadata": {
        "id": "QrC3Z1GdrxGZ",
        "colab_type": "code",
        "colab": {
          "autoexec": {
            "startup": false,
            "wait_interval": 0
          },
          "base_uri": "https://localhost:8080/",
          "height": 607
        },
        "outputId": "ebac75a6-88d2-444c-d171-87ba43c7014c",
        "executionInfo": {
          "status": "ok",
          "timestamp": 1527630238444,
          "user_tz": 420,
          "elapsed": 1319,
          "user": {
            "displayName": "Andy Wang",
            "photoUrl": "//lh5.googleusercontent.com/-JeGfHaAYPFk/AAAAAAAAAAI/AAAAAAAAAC8/R0S_QnbtnTs/s50-c-k-no/photo.jpg",
            "userId": "115106824648733097558"
          }
        }
      },
      "cell_type": "code",
      "source": [
        "label_map = ['a', 'b', 'c', 'd', 'e', 'f', 'g', 'h', 'i', 'j']\n",
        "\n",
        "#training set\n",
        "fig = plt.figure(figsize=(10,10))\n",
        "columns = 4\n",
        "rows = 4\n",
        "for i in range(1, 17):\n",
        "  img, img_label = test_dataset[i], test_labels[i]\n",
        "  fig.add_subplot(rows, columns, i)\n",
        "  plt.axis('off')\n",
        "  plt.title(label_map[img_label].upper())\n",
        "  plt.imshow(img)\n",
        "plt.show()"
      ],
      "execution_count": 44,
      "outputs": [
        {
          "output_type": "display_data",
          "data": {
            "image/png": "[encoded data removed]",
            "text/plain": [
              "<matplotlib.figure.Figure at 0x7f6c8ad57e50>"
            ]
          },
          "metadata": {
            "tags": []
          }
        }
      ]
    },
    {
      "metadata": {
        "id": "tIQJaJuwg5Hw",
        "colab_type": "text"
      },
      "cell_type": "markdown",
      "source": [
        "Finally, let's save the data to Google drive for later reuse:"
      ]
    },
    {
      "metadata": {
        "id": "QiR_rETzem6C",
        "colab_type": "code",
        "colab": {
          "autoexec": {
            "startup": false,
            "wait_interval": 0
          },
          "base_uri": "https://localhost:8080/",
          "height": 232
        },
        "cellView": "both",
        "outputId": "bcaf6d4c-9e7f-44fe-bac2-f5297e203b5e",
        "executionInfo": {
          "status": "error",
          "timestamp": 1527634696285,
          "user_tz": 420,
          "elapsed": 259,
          "user": {
            "displayName": "Andy Wang",
            "photoUrl": "//lh5.googleusercontent.com/-JeGfHaAYPFk/AAAAAAAAAAI/AAAAAAAAAC8/R0S_QnbtnTs/s50-c-k-no/photo.jpg",
            "userId": "115106824648733097558"
          }
        }
      },
      "cell_type": "code",
      "source": [
        "pickle_file = os.path.join(data_root, 'notMNIST.pickle')\n",
        "\n",
        "try:\n",
        "  f = open(pickle_file, 'wb')\n",
        "  save = {\n",
        "    'train_dataset': train_dataset,\n",
        "    'train_labels': train_labels,\n",
        "    'valid_dataset': valid_dataset,\n",
        "    'valid_labels': valid_labels,\n",
        "    'test_dataset': test_dataset,\n",
        "    'test_labels': test_labels,\n",
        "    }\n",
        "  pickle.dump(save, f, pickle.HIGHEST_PROTOCOL)\n",
        "  f.close()\n",
        "except Exception as e:\n",
        "  print('Unable to save data to', pickle_file, ':', e)\n",
        "  raise"
      ],
      "execution_count": 47,
      "outputs": [
        {
          "output_type": "error",
          "ename": "AttributeError",
          "evalue": "ignored",
          "traceback": [
            "\u001b[0;31m\u001b[0m",
            "\u001b[0;31mAttributeError\u001b[0mTraceback (most recent call last)",
            "\u001b[0;32m<ipython-input-47-eaa04bed40d1>\u001b[0m in \u001b[0;36m<module>\u001b[0;34m()\u001b[0m\n\u001b[1;32m      1\u001b[0m \u001b[0;32mfrom\u001b[0m \u001b[0mgoogle\u001b[0m\u001b[0;34m.\u001b[0m\u001b[0mcolab\u001b[0m \u001b[0;32mimport\u001b[0m \u001b[0mauth\u001b[0m\u001b[0;34m\u001b[0m\u001b[0m\n\u001b[0;32m----> 2\u001b[0;31m \u001b[0mauth\u001b[0m\u001b[0;34m.\u001b[0m\u001b[0mauthetnicate\u001b[0m\u001b[0;34m\u001b[0m\u001b[0m\n\u001b[0m\u001b[1;32m      3\u001b[0m \u001b[0;34m\u001b[0m\u001b[0m\n\u001b[1;32m      4\u001b[0m \u001b[0mpickle_file\u001b[0m \u001b[0;34m=\u001b[0m \u001b[0mos\u001b[0m\u001b[0;34m.\u001b[0m\u001b[0mpath\u001b[0m\u001b[0;34m.\u001b[0m\u001b[0mjoin\u001b[0m\u001b[0;34m(\u001b[0m\u001b[0mdata_root\u001b[0m\u001b[0;34m,\u001b[0m \u001b[0;34m'notMNIST.pickle'\u001b[0m\u001b[0;34m)\u001b[0m\u001b[0;34m\u001b[0m\u001b[0m\n\u001b[1;32m      5\u001b[0m \u001b[0;34m\u001b[0m\u001b[0m\n",
            "\u001b[0;31mAttributeError\u001b[0m: 'module' object has no attribute 'authetnicate'"
          ]
        }
      ]
    },
    {
      "metadata": {
        "id": "hQbLjrW_iT39",
        "colab_type": "code",
        "colab": {
          "autoexec": {
            "startup": false,
            "wait_interval": 0
          },
          "base_uri": "https://localhost:8080/",
          "height": 51
        },
        "cellView": "both",
        "outputId": "c34cfc4e-ece1-4b68-acf0-00b18b58a1e8",
        "executionInfo": {
          "status": "ok",
          "timestamp": 1527634951432,
          "user_tz": 420,
          "elapsed": 468,
          "user": {
            "displayName": "Andy Wang",
            "photoUrl": "//lh5.googleusercontent.com/-JeGfHaAYPFk/AAAAAAAAAAI/AAAAAAAAAC8/R0S_QnbtnTs/s50-c-k-no/photo.jpg",
            "userId": "115106824648733097558"
          }
        }
      },
      "cell_type": "code",
      "source": [
        "statinfo = os.stat(pickle_file)\n",
        "print('Compressed pickle size:', statinfo.st_size)\n",
        "print(pickle_file)"
      ],
      "execution_count": 48,
      "outputs": [
        {
          "output_type": "stream",
          "text": [
            "Compressed pickle size: 690800441\n",
            "./notMNIST.pickle\n"
          ],
          "name": "stdout"
        }
      ]
    },
    {
      "metadata": {
        "id": "Gm46-KpcLCAS",
        "colab_type": "text"
      },
      "cell_type": "markdown",
      "source": [
        "Since we are performing all of these actions in colab, we'll be loading and reading data from Google Drive. Reference for this can be found here: https://colab.research.google.com/notebooks/io.ipynb"
      ]
    },
    {
      "metadata": {
        "id": "ZfxtjYQKIUKX",
        "colab_type": "code",
        "colab": {
          "autoexec": {
            "startup": false,
            "wait_interval": 0
          }
        }
      },
      "cell_type": "code",
      "source": [
        "#Auth\n",
        "from google.colab import auth\n",
        "auth.authenticate_user()\n",
        "\n",
        "#Drive API client\n",
        "from googleapiclient.discovery import build\n",
        "drive_service = build('drive', 'v3')"
      ],
      "execution_count": 0,
      "outputs": []
    },
    {
      "metadata": {
        "id": "daVY2WXGK6kt",
        "colab_type": "code",
        "colab": {
          "autoexec": {
            "startup": false,
            "wait_interval": 0
          },
          "base_uri": "https://localhost:8080/",
          "height": 232
        },
        "outputId": "4b00c77b-ae6b-4cff-889e-d2270b4c0c02",
        "executionInfo": {
          "status": "error",
          "timestamp": 1527878969537,
          "user_tz": 420,
          "elapsed": 703,
          "user": {
            "displayName": "Andy Wang",
            "photoUrl": "//lh5.googleusercontent.com/-JeGfHaAYPFk/AAAAAAAAAAI/AAAAAAAAAC8/R0S_QnbtnTs/s50-c-k-no/photo.jpg",
            "userId": "115106824648733097558"
          }
        }
      },
      "cell_type": "code",
      "source": [
        "#Upload\n",
        "from googleapiclient.http import MediaFileUpload\n",
        "\n",
        "file_metadata = {\n",
        "    'name' : 'notMNIST.pickle',\n",
        "    'mimeType' : 'application/octet-stream'\n",
        "}\n",
        "media = MediaFileUpload(pickle_file,\n",
        "                       mimetype='application/octet-stream',\n",
        "                       resumable=True)\n",
        "created = drive_service.files().create(body=file_metadata,\n",
        "                                      media_body=media,\n",
        "                                      fields='id').execute()\n",
        "print('File ID: {}'.format(created.get('id')))"
      ],
      "execution_count": 3,
      "outputs": [
        {
          "output_type": "error",
          "ename": "NameError",
          "evalue": "ignored",
          "traceback": [
            "\u001b[0;31m\u001b[0m",
            "\u001b[0;31mNameError\u001b[0mTraceback (most recent call last)",
            "\u001b[0;32m<ipython-input-3-9c5934a6752c>\u001b[0m in \u001b[0;36m<module>\u001b[0;34m()\u001b[0m\n\u001b[1;32m      5\u001b[0m     \u001b[0;34m'mimeType'\u001b[0m \u001b[0;34m:\u001b[0m \u001b[0;34m'application/octet-stream'\u001b[0m\u001b[0;34m\u001b[0m\u001b[0m\n\u001b[1;32m      6\u001b[0m }\n\u001b[0;32m----> 7\u001b[0;31m media = MediaFileUpload(pickle_file,\n\u001b[0m\u001b[1;32m      8\u001b[0m                        \u001b[0mmimetype\u001b[0m\u001b[0;34m=\u001b[0m\u001b[0;34m'application/octet-stream'\u001b[0m\u001b[0;34m,\u001b[0m\u001b[0;34m\u001b[0m\u001b[0m\n\u001b[1;32m      9\u001b[0m                        resumable=True)\n",
            "\u001b[0;31mNameError\u001b[0m: name 'pickle_file' is not defined"
          ]
        }
      ]
    },
    {
      "metadata": {
        "id": "OP4ebX3OSMwZ",
        "colab_type": "code",
        "colab": {
          "autoexec": {
            "startup": false,
            "wait_interval": 0
          },
          "base_uri": "https://localhost:8080/",
          "height": 34
        },
        "outputId": "29fa4a86-d1b9-4691-c304-1067f3c659c5",
        "executionInfo": {
          "status": "ok",
          "timestamp": 1527801220859,
          "user_tz": 420,
          "elapsed": 753,
          "user": {
            "displayName": "Andy Wang",
            "photoUrl": "//lh5.googleusercontent.com/-JeGfHaAYPFk/AAAAAAAAAAI/AAAAAAAAAC8/R0S_QnbtnTs/s50-c-k-no/photo.jpg",
            "userId": "115106824648733097558"
          }
        }
      },
      "cell_type": "code",
      "source": [
        "#Find id\n",
        "page_token = None\n",
        "while True:\n",
        "    response = drive_service.files().list(q=\"name contains '.pickle'\",\n",
        "                                          spaces='drive',\n",
        "                                          fields='nextPageToken, files(id, name)',\n",
        "                                          pageToken=page_token).execute()\n",
        "    for file in response.get('files', []):\n",
        "        # Process change\n",
        "        print('Found file: %s (%s)' % (file.get('name'), file.get('id')))\n",
        "    page_token = response.get('nextPageToken', None)\n",
        "    if page_token is None:\n",
        "        break"
      ],
      "execution_count": 4,
      "outputs": [
        {
          "output_type": "stream",
          "text": [
            "Found file: notMNIST.pickle (1dlQpbatb09W3W0nBbjlpiB8fSbEn46UL)\n"
          ],
          "name": "stdout"
        }
      ]
    },
    {
      "metadata": {
        "id": "fJE670EQLQm8",
        "colab_type": "code",
        "colab": {
          "autoexec": {
            "startup": false,
            "wait_interval": 0
          },
          "base_uri": "https://localhost:8080/",
          "height": 136
        },
        "cellView": "code",
        "outputId": "1a19f48e-f0f2-4a64-ce11-deb73afffa60",
        "executionInfo": {
          "status": "ok",
          "timestamp": 1527878986532,
          "user_tz": 420,
          "elapsed": 10332,
          "user": {
            "displayName": "Andy Wang",
            "photoUrl": "//lh5.googleusercontent.com/-JeGfHaAYPFk/AAAAAAAAAAI/AAAAAAAAAC8/R0S_QnbtnTs/s50-c-k-no/photo.jpg",
            "userId": "115106824648733097558"
          }
        }
      },
      "cell_type": "code",
      "source": [
        "#Download\n",
        "import io\n",
        "file_id = '1dlQpbatb09W3W0nBbjlpiB8fSbEn46UL' #@param {type:\"string\"}\n",
        "\n",
        "from googleapiclient.http import MediaIoBaseDownload\n",
        "\n",
        "request = drive_service.files().get_media(fileId=file_id)\n",
        "handler = io.BytesIO()\n",
        "downloader = MediaIoBaseDownload(handler, request)\n",
        "done = False\n",
        "while done is False:\n",
        "  status, done = downloader.next_chunk()\n",
        "  print(\"Download %d%%\" % int(status.progress() * 100))\n",
        "  \n",
        "handler.seek(0)\n",
        "loaded = pickle.load(handler)"
      ],
      "execution_count": 4,
      "outputs": [
        {
          "output_type": "stream",
          "text": [
            "Download 15%\n",
            "Download 30%\n",
            "Download 45%\n",
            "Download 60%\n",
            "Download 75%\n",
            "Download 91%\n",
            "Download 100%\n"
          ],
          "name": "stdout"
        }
      ]
    },
    {
      "metadata": {
        "id": "t4PR1giNPMJ3",
        "colab_type": "code",
        "colab": {
          "autoexec": {
            "startup": false,
            "wait_interval": 0
          },
          "base_uri": "https://localhost:8080/",
          "height": 4338
        },
        "outputId": "421d1e00-585a-42f1-f613-5834c9b76d82",
        "executionInfo": {
          "status": "ok",
          "timestamp": 1527801238655,
          "user_tz": 420,
          "elapsed": 306,
          "user": {
            "displayName": "Andy Wang",
            "photoUrl": "//lh5.googleusercontent.com/-JeGfHaAYPFk/AAAAAAAAAAI/AAAAAAAAAC8/R0S_QnbtnTs/s50-c-k-no/photo.jpg",
            "userId": "115106824648733097558"
          }
        }
      },
      "cell_type": "code",
      "source": [
        "print(loaded)"
      ],
      "execution_count": 6,
      "outputs": [
        {
          "output_type": "stream",
          "text": [
            "{'train_labels': array([4, 9, 6, ..., 2, 4, 4], dtype=int32), 'valid_labels': array([1, 9, 3, ..., 8, 9, 8], dtype=int32), 'test_labels': array([3, 6, 4, ..., 6, 9, 0], dtype=int32), 'test_dataset': array([[[-0.5       , -0.5       , -0.48431373, ..., -0.49607843,\n",
            "         -0.5       , -0.5       ],\n",
            "        [-0.5       , -0.5       , -0.49607843, ..., -0.5       ,\n",
            "         -0.49607843, -0.5       ],\n",
            "        [-0.5       , -0.5       , -0.5       , ..., -0.46078432,\n",
            "         -0.49215686, -0.49607843],\n",
            "        ...,\n",
            "        [-0.5       , -0.5       , -0.40980393, ..., -0.5       ,\n",
            "         -0.5       , -0.5       ],\n",
            "        [-0.30784315, -0.01764706,  0.3745098 , ..., -0.5       ,\n",
            "         -0.5       , -0.5       ],\n",
            "        [ 0.29607844,  0.5       ,  0.5       , ..., -0.5       ,\n",
            "         -0.5       , -0.5       ]],\n",
            "\n",
            "       [[-0.5       , -0.5       , -0.5       , ..., -0.5       ,\n",
            "         -0.5       , -0.5       ],\n",
            "        [-0.5       , -0.5       , -0.5       , ..., -0.49215686,\n",
            "         -0.49607843, -0.5       ],\n",
            "        [-0.5       , -0.5       , -0.5       , ..., -0.49607843,\n",
            "         -0.5       , -0.5       ],\n",
            "        ...,\n",
            "        [-0.5       , -0.5       , -0.5       , ..., -0.5       ,\n",
            "         -0.5       , -0.5       ],\n",
            "        [-0.5       , -0.5       , -0.49607843, ..., -0.5       ,\n",
            "         -0.5       , -0.5       ],\n",
            "        [-0.5       , -0.5       , -0.5       , ..., -0.5       ,\n",
            "         -0.5       , -0.5       ]],\n",
            "\n",
            "       [[-0.5       , -0.5       , -0.5       , ...,  0.5       ,\n",
            "          0.39411765, -0.35882354],\n",
            "        [-0.5       , -0.5       , -0.5       , ...,  0.5       ,\n",
            "          0.24117647, -0.44509804],\n",
            "        [-0.5       , -0.49215686, -0.4882353 , ...,  0.5       ,\n",
            "          0.07254902, -0.5       ],\n",
            "        ...,\n",
            "        [ 0.5       ,  0.5       ,  0.5       , ...,  0.5       ,\n",
            "          0.11176471, -0.5       ],\n",
            "        [ 0.5       ,  0.5       ,  0.5       , ...,  0.5       ,\n",
            "         -0.02941176, -0.5       ],\n",
            "        [ 0.5       ,  0.5       ,  0.5       , ...,  0.5       ,\n",
            "         -0.15882353, -0.5       ]],\n",
            "\n",
            "       ...,\n",
            "\n",
            "       [[-0.5       , -0.5       , -0.5       , ..., -0.49607843,\n",
            "         -0.5       , -0.5       ],\n",
            "        [-0.5       , -0.5       , -0.5       , ..., -0.4490196 ,\n",
            "         -0.5       , -0.49607843],\n",
            "        [-0.5       , -0.5       , -0.49607843, ..., -0.5       ,\n",
            "         -0.49607843, -0.49607843],\n",
            "        ...,\n",
            "        [-0.5       , -0.5       , -0.49607843, ...,  0.5       ,\n",
            "          0.17843138, -0.4137255 ],\n",
            "        [-0.5       , -0.5       , -0.5       , ..., -0.01764706,\n",
            "         -0.32352942, -0.4764706 ],\n",
            "        [-0.5       , -0.5       , -0.5       , ..., -0.5       ,\n",
            "         -0.5       , -0.5       ]],\n",
            "\n",
            "       [[-0.5       , -0.5       , -0.5       , ...,  0.5       ,\n",
            "          0.5       ,  0.5       ],\n",
            "        [-0.5       , -0.5       , -0.5       , ...,  0.5       ,\n",
            "          0.5       ,  0.5       ],\n",
            "        [-0.5       , -0.5       , -0.5       , ...,  0.5       ,\n",
            "          0.5       ,  0.5       ],\n",
            "        ...,\n",
            "        [-0.3509804 ,  0.0254902 ,  0.47254902, ...,  0.46470588,\n",
            "          0.09607843, -0.21764706],\n",
            "        [-0.5       , -0.40588236, -0.24117647, ..., -0.29215688,\n",
            "         -0.42941177, -0.5       ],\n",
            "        [-0.49607843, -0.49607843, -0.5       , ..., -0.5       ,\n",
            "         -0.49607843, -0.49215686]],\n",
            "\n",
            "       [[-0.5       , -0.5       , -0.5       , ..., -0.5       ,\n",
            "         -0.5       , -0.5       ],\n",
            "        [-0.5       , -0.5       , -0.5       , ..., -0.5       ,\n",
            "         -0.5       , -0.5       ],\n",
            "        [-0.5       , -0.5       , -0.5       , ..., -0.5       ,\n",
            "         -0.5       , -0.5       ],\n",
            "        ...,\n",
            "        [-0.5       , -0.5       , -0.41764706, ..., -0.327451  ,\n",
            "         -0.5       , -0.5       ],\n",
            "        [-0.3       , -0.09215686,  0.35882354, ...,  0.37058824,\n",
            "         -0.08039216, -0.2647059 ],\n",
            "        [ 0.34313726,  0.5       ,  0.45294118, ...,  0.47254902,\n",
            "          0.5       ,  0.24901961]]], dtype=float32), 'train_dataset': array([[[-0.29215688, -0.29215688, -0.28039217, ..., -0.5       ,\n",
            "         -0.5       , -0.5       ],\n",
            "        [ 0.5       ,  0.5       ,  0.5       , ..., -0.49607843,\n",
            "         -0.5       , -0.5       ],\n",
            "        [-0.17450981,  0.17058824,  0.5       , ..., -0.49215686,\n",
            "         -0.5       , -0.5       ],\n",
            "        ...,\n",
            "        [-0.04901961,  0.22156863,  0.5       , ..., -0.5       ,\n",
            "         -0.4882353 , -0.5       ],\n",
            "        [ 0.5       ,  0.5       ,  0.5       , ..., -0.5       ,\n",
            "         -0.49607843, -0.5       ],\n",
            "        [-0.29607844, -0.2882353 , -0.28039217, ..., -0.4882353 ,\n",
            "         -0.5       , -0.5       ]],\n",
            "\n",
            "       [[-0.5       , -0.5       , -0.5       , ..., -0.17058824,\n",
            "         -0.15490197, -0.2647059 ],\n",
            "        [-0.5       , -0.5       , -0.5       , ..., -0.49607843,\n",
            "         -0.5       , -0.5       ],\n",
            "        [-0.5       , -0.5       , -0.5       , ..., -0.48431373,\n",
            "         -0.4882353 , -0.49215686],\n",
            "        ...,\n",
            "        [-0.5       , -0.327451  ,  0.28431374, ..., -0.5       ,\n",
            "         -0.5       , -0.5       ],\n",
            "        [-0.49215686, -0.5       , -0.41764706, ..., -0.5       ,\n",
            "         -0.5       , -0.5       ],\n",
            "        [-0.5       , -0.49215686, -0.49607843, ..., -0.5       ,\n",
            "         -0.5       , -0.5       ]],\n",
            "\n",
            "       [[-0.49607843, -0.48431373, -0.48431373, ..., -0.5       ,\n",
            "         -0.5       , -0.5       ],\n",
            "        [-0.5       , -0.5       , -0.5       , ..., -0.5       ,\n",
            "         -0.5       , -0.5       ],\n",
            "        [-0.3392157 ,  0.10784314, -0.06470589, ..., -0.5       ,\n",
            "         -0.5       , -0.5       ],\n",
            "        ...,\n",
            "        [-0.5       , -0.5       , -0.5       , ...,  0.5       ,\n",
            "          0.5       ,  0.1       ],\n",
            "        [-0.5       , -0.5       , -0.5       , ..., -0.17843138,\n",
            "         -0.06862745, -0.08039216],\n",
            "        [-0.5       , -0.5       , -0.5       , ..., -0.5       ,\n",
            "         -0.5       , -0.5       ]],\n",
            "\n",
            "       ...,\n",
            "\n",
            "       [[-0.5       , -0.5       , -0.5       , ..., -0.49607843,\n",
            "         -0.5       , -0.5       ],\n",
            "        [-0.5       , -0.5       , -0.5       , ..., -0.48431373,\n",
            "         -0.5       , -0.5       ],\n",
            "        [-0.5       , -0.5       , -0.5       , ..., -0.5       ,\n",
            "         -0.5       , -0.5       ],\n",
            "        ...,\n",
            "        [-0.5       , -0.5       , -0.5       , ..., -0.4882353 ,\n",
            "         -0.5       , -0.5       ],\n",
            "        [-0.5       , -0.5       , -0.5       , ..., -0.5       ,\n",
            "         -0.5       , -0.5       ],\n",
            "        [-0.5       , -0.5       , -0.5       , ..., -0.5       ,\n",
            "         -0.5       , -0.5       ]],\n",
            "\n",
            "       [[-0.5       , -0.5       , -0.5       , ...,  0.5       ,\n",
            "          0.32352942, -0.327451  ],\n",
            "        [-0.5       , -0.5       , -0.5       , ...,  0.19411765,\n",
            "         -0.40980393, -0.5       ],\n",
            "        [-0.5       , -0.5       , -0.49607843, ..., -0.5       ,\n",
            "         -0.49607843, -0.49607843],\n",
            "        ...,\n",
            "        [-0.5       , -0.42156863,  0.41764706, ..., -0.5       ,\n",
            "         -0.5       , -0.5       ],\n",
            "        [-0.5       , -0.1627451 ,  0.5       , ..., -0.5       ,\n",
            "         -0.5       , -0.5       ],\n",
            "        [-0.5       ,  0.13137256,  0.5       , ..., -0.5       ,\n",
            "         -0.5       , -0.5       ]],\n",
            "\n",
            "       [[-0.49607843, -0.3392157 , -0.47254902, ..., -0.5       ,\n",
            "         -0.4882353 , -0.5       ],\n",
            "        [ 0.02941176,  0.44509804, -0.10392157, ..., -0.46078432,\n",
            "         -0.49607843, -0.49607843],\n",
            "        [ 0.35490197,  0.37843138, -0.37058824, ..., -0.48039216,\n",
            "         -0.49215686, -0.5       ],\n",
            "        ...,\n",
            "        [ 0.30784315,  0.5       , -0.35490197, ..., -0.29607844,\n",
            "         -0.49607843, -0.5       ],\n",
            "        [-0.13137256,  0.35882354, -0.19019608, ..., -0.5       ,\n",
            "         -0.49215686, -0.5       ],\n",
            "        [-0.5       , -0.40588236, -0.49215686, ..., -0.49215686,\n",
            "         -0.49215686, -0.5       ]]], dtype=float32), 'valid_dataset': array([[[ 0.11176471,  0.41764706,  0.5       , ..., -0.5       ,\n",
            "         -0.5       , -0.5       ],\n",
            "        [ 0.5       ,  0.5       ,  0.49607843, ..., -0.49215686,\n",
            "         -0.5       , -0.5       ],\n",
            "        [ 0.49215686,  0.49607843,  0.48431373, ..., -0.5       ,\n",
            "         -0.5       , -0.5       ],\n",
            "        ...,\n",
            "        [ 0.49215686,  0.49607843,  0.48431373, ..., -0.5       ,\n",
            "         -0.49215686, -0.5       ],\n",
            "        [ 0.5       ,  0.5       ,  0.49607843, ..., -0.49215686,\n",
            "         -0.5       , -0.5       ],\n",
            "        [ 0.10784314,  0.41764706,  0.5       , ..., -0.5       ,\n",
            "         -0.5       , -0.5       ]],\n",
            "\n",
            "       [[-0.5       , -0.5       , -0.5       , ...,  0.49215686,\n",
            "          0.5       ,  0.30784315],\n",
            "        [-0.5       , -0.5       , -0.5       , ...,  0.48039216,\n",
            "          0.5       ,  0.16666667],\n",
            "        [-0.5       , -0.5       , -0.5       , ...,  0.4882353 ,\n",
            "          0.5       ,  0.0372549 ],\n",
            "        ...,\n",
            "        [-0.44117647,  0.33529413,  0.5       , ..., -0.5       ,\n",
            "         -0.5       , -0.5       ],\n",
            "        [-0.5       , -0.3392157 ,  0.31176472, ..., -0.5       ,\n",
            "         -0.5       , -0.5       ],\n",
            "        [-0.49215686, -0.5       , -0.46078432, ..., -0.5       ,\n",
            "         -0.5       , -0.5       ]],\n",
            "\n",
            "       [[-0.49607843, -0.5       , -0.4254902 , ..., -0.5       ,\n",
            "         -0.5       , -0.5       ],\n",
            "        [-0.5       , -0.19803922,  0.4019608 , ..., -0.5       ,\n",
            "         -0.5       , -0.5       ],\n",
            "        [-0.33137256,  0.40980393,  0.5       , ..., -0.5       ,\n",
            "         -0.5       , -0.5       ],\n",
            "        ...,\n",
            "        [-0.5       , -0.5       , -0.5       , ..., -0.5       ,\n",
            "         -0.5       , -0.5       ],\n",
            "        [-0.5       , -0.5       , -0.49607843, ..., -0.5       ,\n",
            "         -0.5       , -0.5       ],\n",
            "        [-0.5       , -0.5       , -0.5       , ..., -0.5       ,\n",
            "         -0.5       , -0.5       ]],\n",
            "\n",
            "       ...,\n",
            "\n",
            "       [[-0.5       , -0.49607843, -0.49215686, ..., -0.49607843,\n",
            "         -0.5       , -0.5       ],\n",
            "        [-0.5       , -0.5       , -0.49215686, ..., -0.49215686,\n",
            "         -0.5       , -0.5       ],\n",
            "        [-0.5       , -0.40980393, -0.2647059 , ...,  0.00588235,\n",
            "         -0.3       , -0.5       ],\n",
            "        ...,\n",
            "        [-0.5       , -0.5       , -0.49607843, ..., -0.5       ,\n",
            "         -0.5       , -0.5       ],\n",
            "        [-0.5       , -0.5       , -0.5       , ..., -0.5       ,\n",
            "         -0.5       , -0.5       ],\n",
            "        [-0.5       , -0.5       , -0.5       , ..., -0.5       ,\n",
            "         -0.5       , -0.5       ]],\n",
            "\n",
            "       [[-0.5       , -0.5       , -0.5       , ...,  0.48039216,\n",
            "          0.48039216,  0.26078433],\n",
            "        [-0.5       , -0.5       , -0.5       , ..., -0.3392157 ,\n",
            "         -0.38235295, -0.45294118],\n",
            "        [-0.5       , -0.5       , -0.5       , ..., -0.49215686,\n",
            "         -0.5       , -0.5       ],\n",
            "        ...,\n",
            "        [-0.5       , -0.5       , -0.5       , ..., -0.5       ,\n",
            "         -0.5       , -0.5       ],\n",
            "        [-0.1392157 , -0.02156863,  0.04509804, ..., -0.5       ,\n",
            "         -0.5       , -0.5       ],\n",
            "        [ 0.03333334,  0.5       ,  0.4764706 , ..., -0.5       ,\n",
            "         -0.5       , -0.5       ]],\n",
            "\n",
            "       [[ 0.5       ,  0.5       ,  0.5       , ...,  0.5       ,\n",
            "          0.5       ,  0.5       ],\n",
            "        [ 0.5       ,  0.5       ,  0.5       , ...,  0.5       ,\n",
            "          0.5       ,  0.5       ],\n",
            "        [ 0.5       ,  0.5       ,  0.5       , ...,  0.5       ,\n",
            "          0.5       ,  0.5       ],\n",
            "        ...,\n",
            "        [ 0.5       ,  0.5       ,  0.5       , ...,  0.5       ,\n",
            "          0.5       ,  0.5       ],\n",
            "        [ 0.5       ,  0.5       ,  0.5       , ...,  0.5       ,\n",
            "          0.5       ,  0.5       ],\n",
            "        [ 0.5       ,  0.5       ,  0.5       , ...,  0.5       ,\n",
            "          0.5       ,  0.5       ]]], dtype=float32)}\n"
          ],
          "name": "stdout"
        }
      ]
    },
    {
      "metadata": {
        "id": "gE_cRAQB33lk",
        "colab_type": "text"
      },
      "cell_type": "markdown",
      "source": [
        "---\n",
        "Problem 5\n",
        "---------\n",
        "\n",
        "By construction, this dataset might contain a lot of overlapping samples, including training data that's also contained in the validation and test set! Overlap between training and test can skew the results if you expect to use your model in an environment where there is never an overlap, but are actually ok if you expect to see training samples recur when you use it.\n",
        "Measure how much overlap there is between training, validation and test samples.\n",
        "\n",
        "Optional questions:\n",
        "- What about near duplicates between datasets? (images that are almost identical)\n",
        "- Create a sanitized validation and test set, and compare your accuracy on those in subsequent assignments.\n",
        "---"
      ]
    },
    {
      "metadata": {
        "id": "neDV5EVaOOGD",
        "colab_type": "code",
        "colab": {
          "autoexec": {
            "startup": false,
            "wait_interval": 0
          },
          "base_uri": "https://localhost:8080/",
          "height": 34
        },
        "outputId": "f1b57d56-065a-45ba-90b4-a0dddcb0d5bf",
        "executionInfo": {
          "status": "ok",
          "timestamp": 1527802739276,
          "user_tz": 420,
          "elapsed": 508,
          "user": {
            "displayName": "Andy Wang",
            "photoUrl": "//lh5.googleusercontent.com/-JeGfHaAYPFk/AAAAAAAAAAI/AAAAAAAAAC8/R0S_QnbtnTs/s50-c-k-no/photo.jpg",
            "userId": "115106824648733097558"
          }
        }
      },
      "cell_type": "code",
      "source": [
        "print(\"train: \" + str(loaded['train_dataset'].size) + \" test: \" + str(loaded['test_dataset'].size) + \" valid: \" + str(loaded['valid_dataset'].size))\n",
        "master = np.concatenate([loaded[x] for x in loaded if x.endswith(\"dataset\")])"
      ],
      "execution_count": 16,
      "outputs": [
        {
          "output_type": "stream",
          "text": [
            "train: 156800000 test: 7840000 valid: 7840000\n"
          ],
          "name": "stdout"
        }
      ]
    },
    {
      "metadata": {
        "id": "0YR0RZkOJBJo",
        "colab_type": "code",
        "colab": {
          "autoexec": {
            "startup": false,
            "wait_interval": 0
          },
          "base_uri": "https://localhost:8080/",
          "height": 102
        },
        "outputId": "b8750d0e-c561-4eb7-df92-1a64cab2675c",
        "executionInfo": {
          "status": "ok",
          "timestamp": 1527803104023,
          "user_tz": 420,
          "elapsed": 7888,
          "user": {
            "displayName": "Andy Wang",
            "photoUrl": "//lh5.googleusercontent.com/-JeGfHaAYPFk/AAAAAAAAAAI/AAAAAAAAAC8/R0S_QnbtnTs/s50-c-k-no/photo.jpg",
            "userId": "115106824648733097558"
          }
        }
      },
      "cell_type": "code",
      "source": [
        "print('Master dataset size: ' + str(master.size))\n",
        "unique_master = np.unique(master, axis=0)\n",
        "print('\\nMaster dataset with unique entries size: ' + str(unique_master.size))\n",
        "print('\\nOverlap: ' + str(master.size - unique_master.size))"
      ],
      "execution_count": 25,
      "outputs": [
        {
          "output_type": "stream",
          "text": [
            "Master dataset size: 172480000\n",
            "\n",
            "Master dataset with unique entries size: 160752144\n",
            "\n",
            "Overlap: 11727856\n"
          ],
          "name": "stdout"
        }
      ]
    },
    {
      "metadata": {
        "id": "L8oww1s4JMQx",
        "colab_type": "text"
      },
      "cell_type": "markdown",
      "source": [
        "---\n",
        "Problem 6\n",
        "---------\n",
        "\n",
        "Let's get an idea of what an off-the-shelf classifier can give you on this data. It's always good to check that there is something to learn, and that it's a problem that is not so trivial that a canned solution solves it.\n",
        "\n",
        "Train a simple model on this data using 50, 100, 1000 and 5000 training samples. Hint: you can use the LogisticRegression model from sklearn.linear_model.\n",
        "\n",
        "Optional question: train an off-the-shelf model on all the data!\n",
        "\n",
        "---"
      ]
    },
    {
      "metadata": {
        "id": "qC7oBafOxW8C",
        "colab_type": "code",
        "colab": {
          "autoexec": {
            "startup": false,
            "wait_interval": 0
          },
          "base_uri": "https://localhost:8080/",
          "height": 34
        },
        "outputId": "3b1deec0-5ee6-4226-e43e-af3fd1bf2eb7",
        "executionInfo": {
          "status": "ok",
          "timestamp": 1527882054668,
          "user_tz": 420,
          "elapsed": 895,
          "user": {
            "displayName": "Andy Wang",
            "photoUrl": "//lh5.googleusercontent.com/-JeGfHaAYPFk/AAAAAAAAAAI/AAAAAAAAAC8/R0S_QnbtnTs/s50-c-k-no/photo.jpg",
            "userId": "115106824648733097558"
          }
        }
      },
      "cell_type": "code",
      "source": [
        "print(loaded['train_dataset'][0:50].shape)"
      ],
      "execution_count": 7,
      "outputs": [
        {
          "output_type": "stream",
          "text": [
            "(50, 28, 28)\n"
          ],
          "name": "stdout"
        }
      ]
    },
    {
      "metadata": {
        "id": "nvXe8kq-PcNy",
        "colab_type": "code",
        "colab": {
          "autoexec": {
            "startup": false,
            "wait_interval": 0
          },
          "base_uri": "https://localhost:8080/",
          "height": 34
        },
        "outputId": "e6bc0a3b-a023-40aa-ccdb-ee3055d2e727",
        "executionInfo": {
          "status": "ok",
          "timestamp": 1527882218310,
          "user_tz": 420,
          "elapsed": 370,
          "user": {
            "displayName": "Andy Wang",
            "photoUrl": "//lh5.googleusercontent.com/-JeGfHaAYPFk/AAAAAAAAAAI/AAAAAAAAAC8/R0S_QnbtnTs/s50-c-k-no/photo.jpg",
            "userId": "115106824648733097558"
          }
        }
      },
      "cell_type": "code",
      "source": [
        "from sklearn.linear_model import LogisticRegression\n",
        "\n",
        "samples, nx, ny = loaded['train_dataset'][0:50].shape\n",
        "logreg = LogisticRegression()\n",
        "logreg.fit(loaded['train_dataset'][0:50].reshape((samples, nx*ny)), loaded['train_labels'][0:50])\n",
        "logreg.score(loaded['test_dataset'][0:50].reshape((samples, nx*ny)), loaded['test_labels'][0:50])"
      ],
      "execution_count": 9,
      "outputs": [
        {
          "output_type": "execute_result",
          "data": {
            "text/plain": [
              "0.72"
            ]
          },
          "metadata": {
            "tags": []
          },
          "execution_count": 9
        }
      ]
    }
  ]
}