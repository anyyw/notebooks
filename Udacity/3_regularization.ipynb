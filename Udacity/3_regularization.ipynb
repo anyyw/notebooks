{
  "nbformat": 4,
  "nbformat_minor": 0,
  "metadata": {
    "colab": {
      "name": "3_regularization.ipynb",
      "version": "0.3.2",
      "views": {},
      "default_view": {},
      "provenance": []
    }
  },
  "cells": [
    {
      "metadata": {
        "id": "kR-4eNdK6lYS",
        "colab_type": "text"
      },
      "cell_type": "markdown",
      "source": [
        "Deep Learning\n",
        "=============\n",
        "\n",
        "Assignment 3\n",
        "------------\n",
        "\n",
        "Previously in `2_fullyconnected.ipynb`, you trained a logistic regression and a neural network model.\n",
        "\n",
        "The goal of this assignment is to explore regularization techniques."
      ]
    },
    {
      "metadata": {
        "id": "JLpLa8Jt7Vu4",
        "colab_type": "code",
        "colab": {
          "autoexec": {
            "startup": false,
            "wait_interval": 0
          }
        },
        "cellView": "both"
      },
      "cell_type": "code",
      "source": [
        "# These are all the modules we'll be using later. Make sure you can import them\n",
        "# before proceeding further.\n",
        "from __future__ import print_function\n",
        "import numpy as np\n",
        "import tensorflow as tf\n",
        "from six.moves import cPickle as pickle\n",
        "import io"
      ],
      "execution_count": 0,
      "outputs": []
    },
    {
      "metadata": {
        "id": "1HrCK6e17WzV",
        "colab_type": "text"
      },
      "cell_type": "markdown",
      "source": [
        "First reload the data we generated in `1_notmnist.ipynb`. We're downloading this from drive again."
      ]
    },
    {
      "metadata": {
        "id": "jPQZ49qQDh0O",
        "colab_type": "code",
        "colab": {
          "autoexec": {
            "startup": false,
            "wait_interval": 0
          }
        }
      },
      "cell_type": "code",
      "source": [
        "#Auth\n",
        "from google.colab import auth\n",
        "auth.authenticate_user()\n",
        "\n",
        "#Drive API client\n",
        "from googleapiclient.discovery import build\n",
        "drive_service = build('drive', 'v3')\n",
        "\n",
        "#Downloads\n",
        "from googleapiclient.http import MediaIoBaseDownload"
      ],
      "execution_count": 0,
      "outputs": []
    },
    {
      "metadata": {
        "id": "BPUyalAUDlCe",
        "colab_type": "code",
        "colab": {
          "autoexec": {
            "startup": false,
            "wait_interval": 0
          },
          "base_uri": "https://localhost:8080/",
          "height": 4474
        },
        "cellView": "code",
        "outputId": "e6fd51a3-481d-4198-85c8-cbe3093aedc1",
        "executionInfo": {
          "status": "ok",
          "timestamp": 1528916660076,
          "user_tz": 420,
          "elapsed": 9985,
          "user": {
            "displayName": "Andy Wang",
            "photoUrl": "//lh5.googleusercontent.com/-JeGfHaAYPFk/AAAAAAAAAAI/AAAAAAAAAC8/R0S_QnbtnTs/s50-c-k-no/photo.jpg",
            "userId": "115106824648733097558"
          }
        }
      },
      "cell_type": "code",
      "source": [
        "#Find file id\n",
        "file_name = 'notMNIST.pickle' #@param {type:\"string\"}\n",
        "file_id = ''\n",
        "page_token = None\n",
        "while True:\n",
        "    response = drive_service.files().list(q=\"name contains '{}'\".format(file_name),\n",
        "                                          spaces='drive',\n",
        "                                          fields='nextPageToken, files(id, name)',\n",
        "                                          pageToken=page_token).execute()\n",
        "    for file in response.get('files', []):\n",
        "        # Process change\n",
        "        print('Found file: %s (%s)' % (file.get('name'), file.get('id')))\n",
        "        file_id = file.get('id')\n",
        "    page_token = response.get('nextPageToken', None)\n",
        "    if page_token is None:\n",
        "        break\n",
        "        \n",
        "#Download file id\n",
        "request = drive_service.files().get_media(fileId=file_id)\n",
        "handler = io.BytesIO()\n",
        "downloader = MediaIoBaseDownload(handler, request)\n",
        "done = False\n",
        "while done is False:\n",
        "  status, done = downloader.next_chunk()\n",
        "  print(\"Download %d%%\" % int(status.progress() * 100))\n",
        "  \n",
        "handler.seek(0)\n",
        "save = pickle.load(handler)\n",
        "print(\"Loaded pickle: \" + str(save))"
      ],
      "execution_count": 3,
      "outputs": [
        {
          "output_type": "stream",
          "text": [
            "Found file: notMNIST.pickle (1dlQpbatb09W3W0nBbjlpiB8fSbEn46UL)\n",
            "Download 15%\n",
            "Download 30%\n",
            "Download 45%\n",
            "Download 60%\n",
            "Download 75%\n",
            "Download 91%\n",
            "Download 100%\n",
            "Loaded pickle: {'train_labels': array([4, 9, 6, ..., 2, 4, 4], dtype=int32), 'valid_labels': array([1, 9, 3, ..., 8, 9, 8], dtype=int32), 'test_labels': array([3, 6, 4, ..., 6, 9, 0], dtype=int32), 'test_dataset': array([[[-0.5       , -0.5       , -0.48431373, ..., -0.49607843,\n",
            "         -0.5       , -0.5       ],\n",
            "        [-0.5       , -0.5       , -0.49607843, ..., -0.5       ,\n",
            "         -0.49607843, -0.5       ],\n",
            "        [-0.5       , -0.5       , -0.5       , ..., -0.46078432,\n",
            "         -0.49215686, -0.49607843],\n",
            "        ...,\n",
            "        [-0.5       , -0.5       , -0.40980393, ..., -0.5       ,\n",
            "         -0.5       , -0.5       ],\n",
            "        [-0.30784315, -0.01764706,  0.3745098 , ..., -0.5       ,\n",
            "         -0.5       , -0.5       ],\n",
            "        [ 0.29607844,  0.5       ,  0.5       , ..., -0.5       ,\n",
            "         -0.5       , -0.5       ]],\n",
            "\n",
            "       [[-0.5       , -0.5       , -0.5       , ..., -0.5       ,\n",
            "         -0.5       , -0.5       ],\n",
            "        [-0.5       , -0.5       , -0.5       , ..., -0.49215686,\n",
            "         -0.49607843, -0.5       ],\n",
            "        [-0.5       , -0.5       , -0.5       , ..., -0.49607843,\n",
            "         -0.5       , -0.5       ],\n",
            "        ...,\n",
            "        [-0.5       , -0.5       , -0.5       , ..., -0.5       ,\n",
            "         -0.5       , -0.5       ],\n",
            "        [-0.5       , -0.5       , -0.49607843, ..., -0.5       ,\n",
            "         -0.5       , -0.5       ],\n",
            "        [-0.5       , -0.5       , -0.5       , ..., -0.5       ,\n",
            "         -0.5       , -0.5       ]],\n",
            "\n",
            "       [[-0.5       , -0.5       , -0.5       , ...,  0.5       ,\n",
            "          0.39411765, -0.35882354],\n",
            "        [-0.5       , -0.5       , -0.5       , ...,  0.5       ,\n",
            "          0.24117647, -0.44509804],\n",
            "        [-0.5       , -0.49215686, -0.4882353 , ...,  0.5       ,\n",
            "          0.07254902, -0.5       ],\n",
            "        ...,\n",
            "        [ 0.5       ,  0.5       ,  0.5       , ...,  0.5       ,\n",
            "          0.11176471, -0.5       ],\n",
            "        [ 0.5       ,  0.5       ,  0.5       , ...,  0.5       ,\n",
            "         -0.02941176, -0.5       ],\n",
            "        [ 0.5       ,  0.5       ,  0.5       , ...,  0.5       ,\n",
            "         -0.15882353, -0.5       ]],\n",
            "\n",
            "       ...,\n",
            "\n",
            "       [[-0.5       , -0.5       , -0.5       , ..., -0.49607843,\n",
            "         -0.5       , -0.5       ],\n",
            "        [-0.5       , -0.5       , -0.5       , ..., -0.4490196 ,\n",
            "         -0.5       , -0.49607843],\n",
            "        [-0.5       , -0.5       , -0.49607843, ..., -0.5       ,\n",
            "         -0.49607843, -0.49607843],\n",
            "        ...,\n",
            "        [-0.5       , -0.5       , -0.49607843, ...,  0.5       ,\n",
            "          0.17843138, -0.4137255 ],\n",
            "        [-0.5       , -0.5       , -0.5       , ..., -0.01764706,\n",
            "         -0.32352942, -0.4764706 ],\n",
            "        [-0.5       , -0.5       , -0.5       , ..., -0.5       ,\n",
            "         -0.5       , -0.5       ]],\n",
            "\n",
            "       [[-0.5       , -0.5       , -0.5       , ...,  0.5       ,\n",
            "          0.5       ,  0.5       ],\n",
            "        [-0.5       , -0.5       , -0.5       , ...,  0.5       ,\n",
            "          0.5       ,  0.5       ],\n",
            "        [-0.5       , -0.5       , -0.5       , ...,  0.5       ,\n",
            "          0.5       ,  0.5       ],\n",
            "        ...,\n",
            "        [-0.3509804 ,  0.0254902 ,  0.47254902, ...,  0.46470588,\n",
            "          0.09607843, -0.21764706],\n",
            "        [-0.5       , -0.40588236, -0.24117647, ..., -0.29215688,\n",
            "         -0.42941177, -0.5       ],\n",
            "        [-0.49607843, -0.49607843, -0.5       , ..., -0.5       ,\n",
            "         -0.49607843, -0.49215686]],\n",
            "\n",
            "       [[-0.5       , -0.5       , -0.5       , ..., -0.5       ,\n",
            "         -0.5       , -0.5       ],\n",
            "        [-0.5       , -0.5       , -0.5       , ..., -0.5       ,\n",
            "         -0.5       , -0.5       ],\n",
            "        [-0.5       , -0.5       , -0.5       , ..., -0.5       ,\n",
            "         -0.5       , -0.5       ],\n",
            "        ...,\n",
            "        [-0.5       , -0.5       , -0.41764706, ..., -0.327451  ,\n",
            "         -0.5       , -0.5       ],\n",
            "        [-0.3       , -0.09215686,  0.35882354, ...,  0.37058824,\n",
            "         -0.08039216, -0.2647059 ],\n",
            "        [ 0.34313726,  0.5       ,  0.45294118, ...,  0.47254902,\n",
            "          0.5       ,  0.24901961]]], dtype=float32), 'train_dataset': array([[[-0.29215688, -0.29215688, -0.28039217, ..., -0.5       ,\n",
            "         -0.5       , -0.5       ],\n",
            "        [ 0.5       ,  0.5       ,  0.5       , ..., -0.49607843,\n",
            "         -0.5       , -0.5       ],\n",
            "        [-0.17450981,  0.17058824,  0.5       , ..., -0.49215686,\n",
            "         -0.5       , -0.5       ],\n",
            "        ...,\n",
            "        [-0.04901961,  0.22156863,  0.5       , ..., -0.5       ,\n",
            "         -0.4882353 , -0.5       ],\n",
            "        [ 0.5       ,  0.5       ,  0.5       , ..., -0.5       ,\n",
            "         -0.49607843, -0.5       ],\n",
            "        [-0.29607844, -0.2882353 , -0.28039217, ..., -0.4882353 ,\n",
            "         -0.5       , -0.5       ]],\n",
            "\n",
            "       [[-0.5       , -0.5       , -0.5       , ..., -0.17058824,\n",
            "         -0.15490197, -0.2647059 ],\n",
            "        [-0.5       , -0.5       , -0.5       , ..., -0.49607843,\n",
            "         -0.5       , -0.5       ],\n",
            "        [-0.5       , -0.5       , -0.5       , ..., -0.48431373,\n",
            "         -0.4882353 , -0.49215686],\n",
            "        ...,\n",
            "        [-0.5       , -0.327451  ,  0.28431374, ..., -0.5       ,\n",
            "         -0.5       , -0.5       ],\n",
            "        [-0.49215686, -0.5       , -0.41764706, ..., -0.5       ,\n",
            "         -0.5       , -0.5       ],\n",
            "        [-0.5       , -0.49215686, -0.49607843, ..., -0.5       ,\n",
            "         -0.5       , -0.5       ]],\n",
            "\n",
            "       [[-0.49607843, -0.48431373, -0.48431373, ..., -0.5       ,\n",
            "         -0.5       , -0.5       ],\n",
            "        [-0.5       , -0.5       , -0.5       , ..., -0.5       ,\n",
            "         -0.5       , -0.5       ],\n",
            "        [-0.3392157 ,  0.10784314, -0.06470589, ..., -0.5       ,\n",
            "         -0.5       , -0.5       ],\n",
            "        ...,\n",
            "        [-0.5       , -0.5       , -0.5       , ...,  0.5       ,\n",
            "          0.5       ,  0.1       ],\n",
            "        [-0.5       , -0.5       , -0.5       , ..., -0.17843138,\n",
            "         -0.06862745, -0.08039216],\n",
            "        [-0.5       , -0.5       , -0.5       , ..., -0.5       ,\n",
            "         -0.5       , -0.5       ]],\n",
            "\n",
            "       ...,\n",
            "\n",
            "       [[-0.5       , -0.5       , -0.5       , ..., -0.49607843,\n",
            "         -0.5       , -0.5       ],\n",
            "        [-0.5       , -0.5       , -0.5       , ..., -0.48431373,\n",
            "         -0.5       , -0.5       ],\n",
            "        [-0.5       , -0.5       , -0.5       , ..., -0.5       ,\n",
            "         -0.5       , -0.5       ],\n",
            "        ...,\n",
            "        [-0.5       , -0.5       , -0.5       , ..., -0.4882353 ,\n",
            "         -0.5       , -0.5       ],\n",
            "        [-0.5       , -0.5       , -0.5       , ..., -0.5       ,\n",
            "         -0.5       , -0.5       ],\n",
            "        [-0.5       , -0.5       , -0.5       , ..., -0.5       ,\n",
            "         -0.5       , -0.5       ]],\n",
            "\n",
            "       [[-0.5       , -0.5       , -0.5       , ...,  0.5       ,\n",
            "          0.32352942, -0.327451  ],\n",
            "        [-0.5       , -0.5       , -0.5       , ...,  0.19411765,\n",
            "         -0.40980393, -0.5       ],\n",
            "        [-0.5       , -0.5       , -0.49607843, ..., -0.5       ,\n",
            "         -0.49607843, -0.49607843],\n",
            "        ...,\n",
            "        [-0.5       , -0.42156863,  0.41764706, ..., -0.5       ,\n",
            "         -0.5       , -0.5       ],\n",
            "        [-0.5       , -0.1627451 ,  0.5       , ..., -0.5       ,\n",
            "         -0.5       , -0.5       ],\n",
            "        [-0.5       ,  0.13137256,  0.5       , ..., -0.5       ,\n",
            "         -0.5       , -0.5       ]],\n",
            "\n",
            "       [[-0.49607843, -0.3392157 , -0.47254902, ..., -0.5       ,\n",
            "         -0.4882353 , -0.5       ],\n",
            "        [ 0.02941176,  0.44509804, -0.10392157, ..., -0.46078432,\n",
            "         -0.49607843, -0.49607843],\n",
            "        [ 0.35490197,  0.37843138, -0.37058824, ..., -0.48039216,\n",
            "         -0.49215686, -0.5       ],\n",
            "        ...,\n",
            "        [ 0.30784315,  0.5       , -0.35490197, ..., -0.29607844,\n",
            "         -0.49607843, -0.5       ],\n",
            "        [-0.13137256,  0.35882354, -0.19019608, ..., -0.5       ,\n",
            "         -0.49215686, -0.5       ],\n",
            "        [-0.5       , -0.40588236, -0.49215686, ..., -0.49215686,\n",
            "         -0.49215686, -0.5       ]]], dtype=float32), 'valid_dataset': array([[[ 0.11176471,  0.41764706,  0.5       , ..., -0.5       ,\n",
            "         -0.5       , -0.5       ],\n",
            "        [ 0.5       ,  0.5       ,  0.49607843, ..., -0.49215686,\n",
            "         -0.5       , -0.5       ],\n",
            "        [ 0.49215686,  0.49607843,  0.48431373, ..., -0.5       ,\n",
            "         -0.5       , -0.5       ],\n",
            "        ...,\n",
            "        [ 0.49215686,  0.49607843,  0.48431373, ..., -0.5       ,\n",
            "         -0.49215686, -0.5       ],\n",
            "        [ 0.5       ,  0.5       ,  0.49607843, ..., -0.49215686,\n",
            "         -0.5       , -0.5       ],\n",
            "        [ 0.10784314,  0.41764706,  0.5       , ..., -0.5       ,\n",
            "         -0.5       , -0.5       ]],\n",
            "\n",
            "       [[-0.5       , -0.5       , -0.5       , ...,  0.49215686,\n",
            "          0.5       ,  0.30784315],\n",
            "        [-0.5       , -0.5       , -0.5       , ...,  0.48039216,\n",
            "          0.5       ,  0.16666667],\n",
            "        [-0.5       , -0.5       , -0.5       , ...,  0.4882353 ,\n",
            "          0.5       ,  0.0372549 ],\n",
            "        ...,\n",
            "        [-0.44117647,  0.33529413,  0.5       , ..., -0.5       ,\n",
            "         -0.5       , -0.5       ],\n",
            "        [-0.5       , -0.3392157 ,  0.31176472, ..., -0.5       ,\n",
            "         -0.5       , -0.5       ],\n",
            "        [-0.49215686, -0.5       , -0.46078432, ..., -0.5       ,\n",
            "         -0.5       , -0.5       ]],\n",
            "\n",
            "       [[-0.49607843, -0.5       , -0.4254902 , ..., -0.5       ,\n",
            "         -0.5       , -0.5       ],\n",
            "        [-0.5       , -0.19803922,  0.4019608 , ..., -0.5       ,\n",
            "         -0.5       , -0.5       ],\n",
            "        [-0.33137256,  0.40980393,  0.5       , ..., -0.5       ,\n",
            "         -0.5       , -0.5       ],\n",
            "        ...,\n",
            "        [-0.5       , -0.5       , -0.5       , ..., -0.5       ,\n",
            "         -0.5       , -0.5       ],\n",
            "        [-0.5       , -0.5       , -0.49607843, ..., -0.5       ,\n",
            "         -0.5       , -0.5       ],\n",
            "        [-0.5       , -0.5       , -0.5       , ..., -0.5       ,\n",
            "         -0.5       , -0.5       ]],\n",
            "\n",
            "       ...,\n",
            "\n",
            "       [[-0.5       , -0.49607843, -0.49215686, ..., -0.49607843,\n",
            "         -0.5       , -0.5       ],\n",
            "        [-0.5       , -0.5       , -0.49215686, ..., -0.49215686,\n",
            "         -0.5       , -0.5       ],\n",
            "        [-0.5       , -0.40980393, -0.2647059 , ...,  0.00588235,\n",
            "         -0.3       , -0.5       ],\n",
            "        ...,\n",
            "        [-0.5       , -0.5       , -0.49607843, ..., -0.5       ,\n",
            "         -0.5       , -0.5       ],\n",
            "        [-0.5       , -0.5       , -0.5       , ..., -0.5       ,\n",
            "         -0.5       , -0.5       ],\n",
            "        [-0.5       , -0.5       , -0.5       , ..., -0.5       ,\n",
            "         -0.5       , -0.5       ]],\n",
            "\n",
            "       [[-0.5       , -0.5       , -0.5       , ...,  0.48039216,\n",
            "          0.48039216,  0.26078433],\n",
            "        [-0.5       , -0.5       , -0.5       , ..., -0.3392157 ,\n",
            "         -0.38235295, -0.45294118],\n",
            "        [-0.5       , -0.5       , -0.5       , ..., -0.49215686,\n",
            "         -0.5       , -0.5       ],\n",
            "        ...,\n",
            "        [-0.5       , -0.5       , -0.5       , ..., -0.5       ,\n",
            "         -0.5       , -0.5       ],\n",
            "        [-0.1392157 , -0.02156863,  0.04509804, ..., -0.5       ,\n",
            "         -0.5       , -0.5       ],\n",
            "        [ 0.03333334,  0.5       ,  0.4764706 , ..., -0.5       ,\n",
            "         -0.5       , -0.5       ]],\n",
            "\n",
            "       [[ 0.5       ,  0.5       ,  0.5       , ...,  0.5       ,\n",
            "          0.5       ,  0.5       ],\n",
            "        [ 0.5       ,  0.5       ,  0.5       , ...,  0.5       ,\n",
            "          0.5       ,  0.5       ],\n",
            "        [ 0.5       ,  0.5       ,  0.5       , ...,  0.5       ,\n",
            "          0.5       ,  0.5       ],\n",
            "        ...,\n",
            "        [ 0.5       ,  0.5       ,  0.5       , ...,  0.5       ,\n",
            "          0.5       ,  0.5       ],\n",
            "        [ 0.5       ,  0.5       ,  0.5       , ...,  0.5       ,\n",
            "          0.5       ,  0.5       ],\n",
            "        [ 0.5       ,  0.5       ,  0.5       , ...,  0.5       ,\n",
            "          0.5       ,  0.5       ]]], dtype=float32)}\n"
          ],
          "name": "stdout"
        }
      ]
    },
    {
      "metadata": {
        "id": "y3-cj1bpmuxc",
        "colab_type": "code",
        "colab": {
          "autoexec": {
            "startup": false,
            "wait_interval": 0
          },
          "base_uri": "https://localhost:8080/",
          "height": 68
        },
        "cellView": "both",
        "outputId": "f6a1b1dd-536f-4c75-ca1a-762bc0827d16",
        "executionInfo": {
          "status": "ok",
          "timestamp": 1528916868634,
          "user_tz": 420,
          "elapsed": 256,
          "user": {
            "displayName": "Andy Wang",
            "photoUrl": "//lh5.googleusercontent.com/-JeGfHaAYPFk/AAAAAAAAAAI/AAAAAAAAAC8/R0S_QnbtnTs/s50-c-k-no/photo.jpg",
            "userId": "115106824648733097558"
          }
        }
      },
      "cell_type": "code",
      "source": [
        "#pickle_file = 'notMNIST.pickle'\n",
        "\n",
        "#with open(pickle_file, 'rb') as f:\n",
        "#  save = pickle.load(f)\n",
        "\n",
        "train_dataset = save['train_dataset']\n",
        "train_labels = save['train_labels']\n",
        "valid_dataset = save['valid_dataset']\n",
        "valid_labels = save['valid_labels']\n",
        "test_dataset = save['test_dataset']\n",
        "test_labels = save['test_labels']\n",
        "del save  # hint to help gc free up memory\n",
        "print('Training set', train_dataset.shape, train_labels.shape)\n",
        "print('Validation set', valid_dataset.shape, valid_labels.shape)\n",
        "print('Test set', test_dataset.shape, test_labels.shape)"
      ],
      "execution_count": 4,
      "outputs": [
        {
          "output_type": "stream",
          "text": [
            "Training set (200000, 28, 28) (200000,)\n",
            "Validation set (10000, 28, 28) (10000,)\n",
            "Test set (10000, 28, 28) (10000,)\n"
          ],
          "name": "stdout"
        }
      ]
    },
    {
      "metadata": {
        "id": "L7aHrm6nGDMB",
        "colab_type": "text"
      },
      "cell_type": "markdown",
      "source": [
        "Reformat into a shape that's more adapted to the models we're going to train:\n",
        "- data as a flat matrix,\n",
        "- labels as float 1-hot encodings."
      ]
    },
    {
      "metadata": {
        "id": "IRSyYiIIGIzS",
        "colab_type": "code",
        "colab": {
          "autoexec": {
            "startup": false,
            "wait_interval": 0
          },
          "base_uri": "https://localhost:8080/",
          "height": 68
        },
        "cellView": "both",
        "outputId": "c19a8145-9b15-43c4-c979-0a083af248cf",
        "executionInfo": {
          "status": "ok",
          "timestamp": 1528916871938,
          "user_tz": 420,
          "elapsed": 413,
          "user": {
            "displayName": "Andy Wang",
            "photoUrl": "//lh5.googleusercontent.com/-JeGfHaAYPFk/AAAAAAAAAAI/AAAAAAAAAC8/R0S_QnbtnTs/s50-c-k-no/photo.jpg",
            "userId": "115106824648733097558"
          }
        }
      },
      "cell_type": "code",
      "source": [
        "image_size = 28\n",
        "num_labels = 10\n",
        "\n",
        "def reformat(dataset, labels):\n",
        "  dataset = dataset.reshape((-1, image_size * image_size)).astype(np.float32)\n",
        "  # Map 1 to [0.0, 1.0, 0.0 ...], 2 to [0.0, 0.0, 1.0 ...]\n",
        "  labels = (np.arange(num_labels) == labels[:,None]).astype(np.float32)\n",
        "  return dataset, labels\n",
        "train_dataset, train_labels = reformat(train_dataset, train_labels)\n",
        "valid_dataset, valid_labels = reformat(valid_dataset, valid_labels)\n",
        "test_dataset, test_labels = reformat(test_dataset, test_labels)\n",
        "print('Training set', train_dataset.shape, train_labels.shape)\n",
        "print('Validation set', valid_dataset.shape, valid_labels.shape)\n",
        "print('Test set', test_dataset.shape, test_labels.shape)"
      ],
      "execution_count": 5,
      "outputs": [
        {
          "output_type": "stream",
          "text": [
            "Training set (200000, 784) (200000, 10)\n",
            "Validation set (10000, 784) (10000, 10)\n",
            "Test set (10000, 784) (10000, 10)\n"
          ],
          "name": "stdout"
        }
      ]
    },
    {
      "metadata": {
        "id": "RajPLaL_ZW6w",
        "colab_type": "code",
        "colab": {
          "autoexec": {
            "startup": false,
            "wait_interval": 0
          }
        },
        "cellView": "both"
      },
      "cell_type": "code",
      "source": [
        "def accuracy(predictions, labels):\n",
        "  return (100.0 * np.sum(np.argmax(predictions, 1) == np.argmax(labels, 1))\n",
        "          / predictions.shape[0])"
      ],
      "execution_count": 0,
      "outputs": []
    },
    {
      "metadata": {
        "id": "sgLbUAQ1CW-1",
        "colab_type": "text"
      },
      "cell_type": "markdown",
      "source": [
        "---\n",
        "Problem 1\n",
        "---------\n",
        "\n",
        "Introduce and tune L2 regularization for both logistic and neural network models. Remember that L2 amounts to adding a penalty on the norm of the weights to the loss. In TensorFlow, you can compute the L2 loss for a tensor `t` using `nn.l2_loss(t)`. The right amount of regularization should improve your validation / test accuracy.\n",
        "\n",
        "---"
      ]
    },
    {
      "metadata": {
        "id": "YNgNoUykZYCD",
        "colab_type": "text"
      },
      "cell_type": "markdown",
      "source": [
        "Logistic model:\n",
        "To introduce L2 regularlization, we need to add the L2 norm (sum of squares) of the weights to the loss and adding a constant that can be tuned.\n"
      ]
    },
    {
      "metadata": {
        "id": "e18lgv0LaSYA",
        "colab_type": "code",
        "colab": {
          "autoexec": {
            "startup": false,
            "wait_interval": 0
          },
          "base_uri": "https://localhost:8080/",
          "height": 173
        },
        "outputId": "c644fcad-817f-48ea-b53f-30100b1c2ecf",
        "executionInfo": {
          "status": "ok",
          "timestamp": 1528843149720,
          "user_tz": 420,
          "elapsed": 732,
          "user": {
            "displayName": "Andy Wang",
            "photoUrl": "//lh5.googleusercontent.com/-JeGfHaAYPFk/AAAAAAAAAAI/AAAAAAAAAC8/R0S_QnbtnTs/s50-c-k-no/photo.jpg",
            "userId": "115106824648733097558"
          }
        }
      },
      "cell_type": "code",
      "source": [
        "batch_size = 128\n",
        "b = 0.01\n",
        "\n",
        "graph = tf.Graph()\n",
        "with graph.as_default():\n",
        "\n",
        "  # Input data. For the training data, we use a placeholder that will be fed\n",
        "  # at run time with a training minibatch.\n",
        "  tf_train_dataset = tf.placeholder(tf.float32,\n",
        "                                    shape=(batch_size, image_size * image_size))\n",
        "  tf_train_labels = tf.placeholder(tf.float32, shape=(batch_size, num_labels))\n",
        "  tf_valid_dataset = tf.constant(valid_dataset)\n",
        "  tf_test_dataset = tf.constant(test_dataset)\n",
        "  \n",
        "  # Variables.\n",
        "  weights = tf.Variable(\n",
        "    tf.truncated_normal([image_size * image_size, num_labels]))\n",
        "  biases = tf.Variable(tf.zeros([num_labels]))\n",
        "  \n",
        "  # Training computation.\n",
        "  logits = tf.matmul(tf_train_dataset, weights) + biases\n",
        "  \n",
        "  # Add L2 Normalizaiton here:\n",
        "  loss = tf.reduce_mean(\n",
        "    tf.nn.softmax_cross_entropy_with_logits(labels=tf_train_labels, logits=logits)\n",
        "    + b * tf.nn.l2_loss(weights))\n",
        "  \n",
        "  # Optimizer.\n",
        "  optimizer = tf.train.GradientDescentOptimizer(0.5).minimize(loss)\n",
        "  \n",
        "  # Predictions for the training, validation, and test data.\n",
        "  train_prediction = tf.nn.softmax(logits)\n",
        "  valid_prediction = tf.nn.softmax(\n",
        "    tf.matmul(tf_valid_dataset, weights) + biases)\n",
        "  test_prediction = tf.nn.softmax(tf.matmul(tf_test_dataset, weights) + biases)"
      ],
      "execution_count": 7,
      "outputs": [
        {
          "output_type": "stream",
          "text": [
            "WARNING:tensorflow:From <ipython-input-7-675b462ceb4f>:25: softmax_cross_entropy_with_logits (from tensorflow.python.ops.nn_ops) is deprecated and will be removed in a future version.\n",
            "Instructions for updating:\n",
            "\n",
            "Future major versions of TensorFlow will allow gradients to flow\n",
            "into the labels input on backprop by default.\n",
            "\n",
            "See @{tf.nn.softmax_cross_entropy_with_logits_v2}.\n",
            "\n"
          ],
          "name": "stdout"
        }
      ]
    },
    {
      "metadata": {
        "id": "mieGtEiZZXBG",
        "colab_type": "code",
        "colab": {
          "autoexec": {
            "startup": false,
            "wait_interval": 0
          },
          "base_uri": "https://localhost:8080/",
          "height": 408
        },
        "outputId": "782af584-6790-401a-8bab-f3680df35bf4",
        "executionInfo": {
          "status": "ok",
          "timestamp": 1528843154585,
          "user_tz": 420,
          "elapsed": 4808,
          "user": {
            "displayName": "Andy Wang",
            "photoUrl": "//lh5.googleusercontent.com/-JeGfHaAYPFk/AAAAAAAAAAI/AAAAAAAAAC8/R0S_QnbtnTs/s50-c-k-no/photo.jpg",
            "userId": "115106824648733097558"
          }
        }
      },
      "cell_type": "code",
      "source": [
        "num_steps = 3001\n",
        "\n",
        "with tf.Session(graph=graph) as session:\n",
        "  tf.global_variables_initializer().run()\n",
        "  print(\"Initialized\")\n",
        "  for step in range(num_steps):\n",
        "    # Pick an offset within the training data, which has been randomized.\n",
        "    # Note: we could use better randomization across epochs.\n",
        "    offset = (step * batch_size) % (train_labels.shape[0] - batch_size)\n",
        "    # Generate a minibatch.\n",
        "    batch_data = train_dataset[offset:(offset + batch_size), :]\n",
        "    batch_labels = train_labels[offset:(offset + batch_size), :]\n",
        "    # Prepare a dictionary telling the session where to feed the minibatch.\n",
        "    # The key of the dictionary is the placeholder node of the graph to be fed,\n",
        "    # and the value is the numpy array to feed to it.\n",
        "    feed_dict = {tf_train_dataset : batch_data, tf_train_labels : batch_labels}\n",
        "    _, l, predictions = session.run(\n",
        "      [optimizer, loss, train_prediction], feed_dict=feed_dict)\n",
        "    if (step % 500 == 0):\n",
        "      print(\"Minibatch loss at step %d: %f\" % (step, l))\n",
        "      print(\"Minibatch accuracy: %.1f%%\" % accuracy(predictions, batch_labels))\n",
        "      print(\"Validation accuracy: %.1f%%\" % accuracy(\n",
        "        valid_prediction.eval(), valid_labels))\n",
        "  print(\"Test accuracy: %.1f%%\" % accuracy(test_prediction.eval(), test_labels))"
      ],
      "execution_count": 8,
      "outputs": [
        {
          "output_type": "stream",
          "text": [
            "Initialized\n",
            "Minibatch loss at step 0: 47.650177\n",
            "Minibatch accuracy: 11.7%\n",
            "Validation accuracy: 14.6%\n",
            "Minibatch loss at step 500: 0.880854\n",
            "Minibatch accuracy: 82.0%\n",
            "Validation accuracy: 81.2%\n",
            "Minibatch loss at step 1000: 0.976134\n",
            "Minibatch accuracy: 78.1%\n",
            "Validation accuracy: 81.9%\n",
            "Minibatch loss at step 1500: 1.011078\n",
            "Minibatch accuracy: 76.6%\n",
            "Validation accuracy: 82.2%\n",
            "Minibatch loss at step 2000: 0.828068\n",
            "Minibatch accuracy: 82.0%\n",
            "Validation accuracy: 80.2%\n",
            "Minibatch loss at step 2500: 0.947139\n",
            "Minibatch accuracy: 76.6%\n",
            "Validation accuracy: 82.1%\n",
            "Minibatch loss at step 3000: 0.724812\n",
            "Minibatch accuracy: 84.4%\n",
            "Validation accuracy: 81.5%\n",
            "Test accuracy: 87.7%\n"
          ],
          "name": "stdout"
        }
      ]
    },
    {
      "metadata": {
        "id": "X-1IzSqjgQnO",
        "colab_type": "text"
      },
      "cell_type": "markdown",
      "source": [
        "And now for the 1 layer NN with hidden ReLUs"
      ]
    },
    {
      "metadata": {
        "id": "fMRlEQKjgQB2",
        "colab_type": "code",
        "colab": {
          "autoexec": {
            "startup": false,
            "wait_interval": 0
          }
        }
      },
      "cell_type": "code",
      "source": [
        "# Pulled from the SGD example above and from help from these stackoverflow posts:\n",
        "# https://stackoverflow.com/questions/35387109/validation-and-test-with-tensorflow\n",
        "# https://stackoverflow.com/questions/38641104/tensorflow-relu-misunderstanding\n",
        "\n",
        "batch_size = 128\n",
        "b = 0.01\n",
        "\n",
        "graph = tf.Graph()\n",
        "with graph.as_default():\n",
        "\n",
        "  # Input data. For the training data, we use a placeholder that will be fed\n",
        "  # at run time with a training minibatch.\n",
        "  tf_train_dataset = tf.placeholder(tf.float32,\n",
        "                                    shape=(batch_size, image_size * image_size))\n",
        "  tf_train_labels = tf.placeholder(tf.float32, shape=(batch_size, num_labels))\n",
        "  tf_valid_dataset = tf.constant(valid_dataset)\n",
        "  tf_test_dataset = tf.constant(test_dataset)\n",
        "    \n",
        "  # Weights and biases for before ReLU, need to transform into a 1024 node layer\n",
        "  weights_pre = tf.Variable(tf.truncated_normal([image_size * image_size, 1024]))\n",
        "  biases_pre = tf.Variable(tf.zeros(1024))\n",
        "  \n",
        "  # Weights and biases for after ReLU, reduce down to label size\n",
        "  weights_post = tf.Variable(tf.truncated_normal([1024, num_labels]))\n",
        "  biases_post = tf.Variable(tf.zeros([num_labels]))\n",
        "  \n",
        "  # Training computation.\n",
        "  hidden = tf.nn.relu(tf.matmul(tf_train_dataset, weights_pre) + biases_pre)\n",
        "  logits = tf.matmul(hidden, weights_post) + biases_post\n",
        "  regularizer = tf.nn.l2_loss(weights_pre) + tf.nn.l2_loss(weights_post)\n",
        "  loss = tf.reduce_mean(\n",
        "    tf.nn.softmax_cross_entropy_with_logits(labels=tf_train_labels, logits=logits) + \n",
        "      b * regularizer)\n",
        "  \n",
        "  # Optimizer.\n",
        "  optimizer = tf.train.GradientDescentOptimizer(0.5).minimize(loss)\n",
        "  \n",
        "  # Predictions for the training dataset\n",
        "  train_prediction = tf.nn.softmax(logits)\n",
        "  \n",
        "  # Predictions for validation dataset\n",
        "  valid_logit = tf.matmul(tf.nn.relu(tf.matmul(tf_valid_dataset, weights_pre) + biases_pre), weights_post) + biases_post\n",
        "  valid_prediction = tf.nn.softmax(valid_logit)\n",
        "  \n",
        "  # Predictions for test dataset\n",
        "  test_logit = tf.matmul(tf.nn.relu(tf.matmul(tf_test_dataset, weights_pre) + biases_pre), weights_post) + biases_post\n",
        "  test_prediction = tf.nn.softmax(test_logit)"
      ],
      "execution_count": 0,
      "outputs": []
    },
    {
      "metadata": {
        "id": "yMGhNBszgZ5m",
        "colab_type": "code",
        "colab": {
          "autoexec": {
            "startup": false,
            "wait_interval": 0
          },
          "base_uri": "https://localhost:8080/",
          "height": 408
        },
        "outputId": "54c79095-5e98-4a2f-8907-60e225ae6803",
        "executionInfo": {
          "status": "ok",
          "timestamp": 1528843188951,
          "user_tz": 420,
          "elapsed": 33723,
          "user": {
            "displayName": "Andy Wang",
            "photoUrl": "//lh5.googleusercontent.com/-JeGfHaAYPFk/AAAAAAAAAAI/AAAAAAAAAC8/R0S_QnbtnTs/s50-c-k-no/photo.jpg",
            "userId": "115106824648733097558"
          }
        }
      },
      "cell_type": "code",
      "source": [
        "num_steps = 3001\n",
        "\n",
        "with tf.Session(graph=graph) as session:\n",
        "  tf.global_variables_initializer().run()\n",
        "  print(\"Initialized\")\n",
        "  for step in range(num_steps):\n",
        "    # Pick an offset within the training data, which has been randomized.\n",
        "    # Note: we could use better randomization across epochs.\n",
        "    offset = (step * batch_size) % (train_labels.shape[0] - batch_size)\n",
        "    # Generate a minibatch.\n",
        "    batch_data = train_dataset[offset:(offset + batch_size), :]\n",
        "    batch_labels = train_labels[offset:(offset + batch_size), :]\n",
        "    # Prepare a dictionary telling the session where to feed the minibatch.\n",
        "    # The key of the dictionary is the placeholder node of the graph to be fed,\n",
        "    # and the value is the numpy array to feed to it.\n",
        "    feed_dict = {tf_train_dataset : batch_data, tf_train_labels : batch_labels}\n",
        "    _, l, predictions = session.run(\n",
        "      [optimizer, loss, train_prediction], feed_dict=feed_dict)\n",
        "    if (step % 500 == 0):\n",
        "      print(\"Minibatch loss at step %d: %f\" % (step, l))\n",
        "      print(\"Minibatch accuracy: %.1f%%\" % accuracy(predictions, batch_labels))\n",
        "      print(\"Validation accuracy: %.1f%%\" % accuracy(\n",
        "        valid_prediction.eval(), valid_labels))\n",
        "  print(\"Test accuracy: %.1f%%\" % accuracy(test_prediction.eval(), test_labels))"
      ],
      "execution_count": 10,
      "outputs": [
        {
          "output_type": "stream",
          "text": [
            "Initialized\n",
            "Minibatch loss at step 0: 3425.981445\n",
            "Minibatch accuracy: 11.7%\n",
            "Validation accuracy: 23.5%\n",
            "Minibatch loss at step 500: 21.226393\n",
            "Minibatch accuracy: 84.4%\n",
            "Validation accuracy: 84.5%\n",
            "Minibatch loss at step 1000: 0.988222\n",
            "Minibatch accuracy: 78.1%\n",
            "Validation accuracy: 84.1%\n",
            "Minibatch loss at step 1500: 0.843288\n",
            "Minibatch accuracy: 79.7%\n",
            "Validation accuracy: 83.5%\n",
            "Minibatch loss at step 2000: 0.726166\n",
            "Minibatch accuracy: 83.6%\n",
            "Validation accuracy: 83.7%\n",
            "Minibatch loss at step 2500: 0.888704\n",
            "Minibatch accuracy: 78.1%\n",
            "Validation accuracy: 84.0%\n",
            "Minibatch loss at step 3000: 0.741414\n",
            "Minibatch accuracy: 85.9%\n",
            "Validation accuracy: 84.3%\n",
            "Test accuracy: 90.1%\n"
          ],
          "name": "stdout"
        }
      ]
    },
    {
      "metadata": {
        "id": "na8xX2yHZzNF",
        "colab_type": "text"
      },
      "cell_type": "markdown",
      "source": [
        "---\n",
        "Problem 2\n",
        "---------\n",
        "Let's demonstrate an extreme case of overfitting. Restrict your training data to just a few batches. What happens?\n",
        "\n",
        "---"
      ]
    },
    {
      "metadata": {
        "id": "GXGNVF6f6q2S",
        "colab_type": "code",
        "colab": {
          "autoexec": {
            "startup": false,
            "wait_interval": 0
          }
        }
      },
      "cell_type": "code",
      "source": [
        "# Pulled from the SGD example above and from help from these stackoverflow posts:\n",
        "# https://stackoverflow.com/questions/35387109/validation-and-test-with-tensorflow\n",
        "# https://stackoverflow.com/questions/38641104/tensorflow-relu-misunderstanding\n",
        "\n",
        "batch_size = 128\n",
        "b = 0.01\n",
        "\n",
        "graph = tf.Graph()\n",
        "with graph.as_default():\n",
        "\n",
        "  # Input data. For the training data, we use a placeholder that will be fed\n",
        "  # at run time with a training minibatch.\n",
        "  tf_train_dataset = tf.placeholder(tf.float32,\n",
        "                                    shape=(batch_size, image_size * image_size))\n",
        "  tf_train_labels = tf.placeholder(tf.float32, shape=(batch_size, num_labels))\n",
        "  tf_valid_dataset = tf.constant(valid_dataset)\n",
        "  tf_test_dataset = tf.constant(test_dataset)\n",
        "    \n",
        "  # Weights and biases for before ReLU, need to transform into a 1024 node layer\n",
        "  weights_pre = tf.Variable(tf.truncated_normal([image_size * image_size, 1024]))\n",
        "  biases_pre = tf.Variable(tf.zeros(1024))\n",
        "  \n",
        "  # Weights and biases for after ReLU, reduce down to label size\n",
        "  weights_post = tf.Variable(tf.truncated_normal([1024, num_labels]))\n",
        "  biases_post = tf.Variable(tf.zeros([num_labels]))\n",
        "  \n",
        "  # Training computation.\n",
        "  hidden = tf.nn.relu(tf.matmul(tf_train_dataset, weights_pre) + biases_pre)\n",
        "  logits = tf.matmul(hidden, weights_post) + biases_post\n",
        "  regularizer = tf.nn.l2_loss(weights_pre) + tf.nn.l2_loss(weights_post)\n",
        "  loss = tf.reduce_mean(\n",
        "    tf.nn.softmax_cross_entropy_with_logits(labels=tf_train_labels, logits=logits) + b * regularizer)\n",
        "  \n",
        "  # Optimizer.\n",
        "  optimizer = tf.train.GradientDescentOptimizer(0.5).minimize(loss)\n",
        "  \n",
        "  # Predictions for the training dataset\n",
        "  train_prediction = tf.nn.softmax(logits)\n",
        "  \n",
        "  # Predictions for validation dataset\n",
        "  valid_logit = tf.matmul(tf.nn.relu(tf.matmul(tf_valid_dataset, weights_pre) + biases_pre), weights_post) + biases_post\n",
        "  valid_prediction = tf.nn.softmax(valid_logit)\n",
        "  \n",
        "  # Predictions for test dataset\n",
        "  test_logit = tf.matmul(tf.nn.relu(tf.matmul(tf_test_dataset, weights_pre) + biases_pre), weights_post) + biases_post\n",
        "  test_prediction = tf.nn.softmax(test_logit)"
      ],
      "execution_count": 0,
      "outputs": []
    },
    {
      "metadata": {
        "id": "IqIGl1wn8vS9",
        "colab_type": "code",
        "colab": {
          "autoexec": {
            "startup": false,
            "wait_interval": 0
          },
          "base_uri": "https://localhost:8080/",
          "height": 85
        },
        "outputId": "b676ba05-c716-46c0-c759-492f5c8d96de",
        "executionInfo": {
          "status": "ok",
          "timestamp": 1528843189905,
          "user_tz": 420,
          "elapsed": 275,
          "user": {
            "displayName": "Andy Wang",
            "photoUrl": "//lh5.googleusercontent.com/-JeGfHaAYPFk/AAAAAAAAAAI/AAAAAAAAAC8/R0S_QnbtnTs/s50-c-k-no/photo.jpg",
            "userId": "115106824648733097558"
          }
        }
      },
      "cell_type": "code",
      "source": [
        "# Create new restricted training dataset\n",
        "\n",
        "restr_train_dataset = train_dataset[:500]\n",
        "restr_train_labels = train_labels[:500]\n",
        "\n",
        "print(restr_train_dataset.shape)\n",
        "print(train_dataset.shape)\n",
        "print(restr_train_labels.shape)\n",
        "print(train_labels.shape)"
      ],
      "execution_count": 12,
      "outputs": [
        {
          "output_type": "stream",
          "text": [
            "(500, 784)\n",
            "(200000, 784)\n",
            "(500, 10)\n",
            "(200000, 10)\n"
          ],
          "name": "stdout"
        }
      ]
    },
    {
      "metadata": {
        "id": "6aZ8rLcm60F4",
        "colab_type": "code",
        "colab": {
          "autoexec": {
            "startup": false,
            "wait_interval": 0
          },
          "base_uri": "https://localhost:8080/",
          "height": 408
        },
        "outputId": "a09da9ff-e08f-4ca2-c22f-af84e89caf28",
        "executionInfo": {
          "status": "ok",
          "timestamp": 1528843226787,
          "user_tz": 420,
          "elapsed": 36790,
          "user": {
            "displayName": "Andy Wang",
            "photoUrl": "//lh5.googleusercontent.com/-JeGfHaAYPFk/AAAAAAAAAAI/AAAAAAAAAC8/R0S_QnbtnTs/s50-c-k-no/photo.jpg",
            "userId": "115106824648733097558"
          }
        }
      },
      "cell_type": "code",
      "source": [
        "num_steps = 3001\n",
        "\n",
        "with tf.Session(graph=graph) as session:\n",
        "  tf.global_variables_initializer().run()\n",
        "  print(\"Initialized\")\n",
        "  for step in range(num_steps):\n",
        "    # Pick an offset within the training data, which has been randomized.\n",
        "    # Note: we could use better randomization across epochs.\n",
        "    offset = (step * batch_size) % (restr_train_labels.shape[0] - batch_size)\n",
        "    # Generate a minibatch.\n",
        "    batch_data = restr_train_dataset[offset:(offset + batch_size), :]\n",
        "    batch_labels = restr_train_labels[offset:(offset + batch_size), :]\n",
        "    # Prepare a dictionary telling the session where to feed the minibatch.\n",
        "    # The key of the dictionary is the placeholder node of the graph to be fed,\n",
        "    # and the value is the numpy array to feed to it.\n",
        "    feed_dict = {tf_train_dataset : batch_data, tf_train_labels : batch_labels}\n",
        "    _, l, predictions = session.run(\n",
        "      [optimizer, loss, train_prediction], feed_dict=feed_dict)\n",
        "    if (step % 500 == 0):\n",
        "      print(\"Minibatch loss at step %d: %f\" % (step, l))\n",
        "      print(\"Minibatch accuracy: %.1f%%\" % accuracy(predictions, batch_labels))\n",
        "      print(\"Validation accuracy: %.1f%%\" % accuracy(\n",
        "        valid_prediction.eval(), valid_labels))\n",
        "  print(\"Test accuracy: %.1f%%\" % accuracy(test_prediction.eval(), test_labels))"
      ],
      "execution_count": 13,
      "outputs": [
        {
          "output_type": "stream",
          "text": [
            "Initialized\n",
            "Minibatch loss at step 0: 3517.274902\n",
            "Minibatch accuracy: 11.7%\n",
            "Validation accuracy: 32.5%\n",
            "Minibatch loss at step 500: 20.972031\n",
            "Minibatch accuracy: 100.0%\n",
            "Validation accuracy: 78.7%\n",
            "Minibatch loss at step 1000: 0.470602\n",
            "Minibatch accuracy: 100.0%\n",
            "Validation accuracy: 78.7%\n",
            "Minibatch loss at step 1500: 0.298813\n",
            "Minibatch accuracy: 100.0%\n",
            "Validation accuracy: 78.5%\n",
            "Minibatch loss at step 2000: 0.277259\n",
            "Minibatch accuracy: 100.0%\n",
            "Validation accuracy: 78.3%\n",
            "Minibatch loss at step 2500: 0.275610\n",
            "Minibatch accuracy: 100.0%\n",
            "Validation accuracy: 78.5%\n",
            "Minibatch loss at step 3000: 0.272792\n",
            "Minibatch accuracy: 100.0%\n",
            "Validation accuracy: 78.6%\n",
            "Test accuracy: 85.3%\n"
          ],
          "name": "stdout"
        }
      ]
    },
    {
      "metadata": {
        "id": "ww3SCBUdlkRc",
        "colab_type": "text"
      },
      "cell_type": "markdown",
      "source": [
        "---\n",
        "Problem 3\n",
        "---------\n",
        "Introduce Dropout on the hidden layer of the neural network. Remember: Dropout should only be introduced during training, not evaluation, otherwise your evaluation results would be stochastic as well. TensorFlow provides `nn.dropout()` for that, but you have to make sure it's only inserted during training.\n",
        "\n",
        "What happens to our extreme overfitting case?\n",
        "\n",
        "---"
      ]
    },
    {
      "metadata": {
        "id": "IPZDBXPUL9jz",
        "colab_type": "text"
      },
      "cell_type": "markdown",
      "source": [
        "While introducint dropout to the model, it turns out that keep_prob needs to be changed when running the validation and test sessions. Since this current architecture feeds all datasets in the feed dict, which is also where I feed the keep_prob, I'll need to rearchitect this to allow for different feeds.\n",
        "\n",
        "To do this, lets decouple the datasets in the feed dictionary and make the initial feed dictionary only contain the training dataset. Once we have the trained model, we can evaluate it with the test and validation datasets."
      ]
    },
    {
      "metadata": {
        "id": "BZ4ZSFe8B_tB",
        "colab_type": "code",
        "colab": {
          "autoexec": {
            "startup": false,
            "wait_interval": 0
          },
          "base_uri": "https://localhost:8080/",
          "height": 85
        },
        "outputId": "9b0eb502-ff1b-46de-e97a-a1fdc3ac8a2d",
        "executionInfo": {
          "status": "ok",
          "timestamp": 1528916919856,
          "user_tz": 420,
          "elapsed": 265,
          "user": {
            "displayName": "Andy Wang",
            "photoUrl": "//lh5.googleusercontent.com/-JeGfHaAYPFk/AAAAAAAAAAI/AAAAAAAAAC8/R0S_QnbtnTs/s50-c-k-no/photo.jpg",
            "userId": "115106824648733097558"
          }
        }
      },
      "cell_type": "code",
      "source": [
        "# Create new restricted training dataset\n",
        "\n",
        "restr_train_dataset = train_dataset[:500]\n",
        "restr_train_labels = train_labels[:500]\n",
        "\n",
        "print(restr_train_dataset.shape)\n",
        "print(train_dataset.shape)\n",
        "print(restr_train_labels.shape)\n",
        "print(train_labels.shape)"
      ],
      "execution_count": 9,
      "outputs": [
        {
          "output_type": "stream",
          "text": [
            "(500, 784)\n",
            "(200000, 784)\n",
            "(500, 10)\n",
            "(200000, 10)\n"
          ],
          "name": "stdout"
        }
      ]
    },
    {
      "metadata": {
        "id": "E1st4d6jBuHe",
        "colab_type": "code",
        "colab": {
          "autoexec": {
            "startup": false,
            "wait_interval": 0
          }
        }
      },
      "cell_type": "code",
      "source": [
        "# Pulled from the SGD example above and from help from these stackoverflow posts:\n",
        "# https://stackoverflow.com/questions/35387109/validation-and-test-with-tensorflow\n",
        "# https://stackoverflow.com/questions/38641104/tensorflow-relu-misunderstanding\n",
        "# This section will introduce Dropout through tf.nn.dropout()\n",
        "# Since the list of calls that we have to make for test and valid prediction calculations\n",
        "# are getting a bit large, lets move them into a function\n",
        "\n",
        "batch_size = 128\n",
        "b = 0.01\n",
        "\n",
        "graph = tf.Graph()\n",
        "with graph.as_default():\n",
        "  \n",
        "  # Input data, we're generalizing the graph for training, validation, and test data\n",
        "  tf_keep_prob = tf.placeholder(tf.float32)\n",
        "  tf_dataset = tf.placeholder(tf.float32, shape=(batch_size, image_size * image_size))\n",
        "  tf_labels = tf.placeholder(tf.float32, shape=(batch_size, num_labels))\n",
        "    \n",
        "  # Weights and biases for before ReLU, need to transform into a 1024 node layer\n",
        "  weights_pre = tf.Variable(tf.truncated_normal([image_size * image_size, 1024]))\n",
        "  biases_pre = tf.Variable(tf.zeros(1024))\n",
        "  \n",
        "  # Weights and biases for after ReLU, reduce down to label size\n",
        "  weights_post = tf.Variable(tf.truncated_normal([1024, num_labels]))\n",
        "  biases_post = tf.Variable(tf.zeros([num_labels]))\n",
        "  \n",
        "  def model(tf_dataset, weights_pre, weights_post, biases_pre, biases_post):  \n",
        "    hidden = tf.nn.relu(tf.matmul(tf_dataset, weights_pre) + biases_pre)\n",
        "    dropped = tf.nn.dropout(hidden, tf_keep_prob)\n",
        "    out_layer = tf.matmul(dropped, weights_post) + biases_post\n",
        "    return out_layer\n",
        "  \n",
        "  # Actual computation of model\n",
        "  logits = model(tf_dataset, weights_pre, weights_post, biases_pre, biases_post)\n",
        "  \n",
        "  # Loss and Optimizer\n",
        "  regularizer = tf.nn.l2_loss(weights_pre) + tf.nn.l2_loss(weights_post)\n",
        "  loss = tf.reduce_mean(\n",
        "    tf.nn.softmax_cross_entropy_with_logits(labels=tf_labels, logits=logits) + \n",
        "    b * regularizer)\n",
        "  optimizer = tf.train.GradientDescentOptimizer(0.5).minimize(loss)\n",
        "  \n",
        "  # Predictions\n",
        "  prediction = tf.nn.softmax(logits)"
      ],
      "execution_count": 0,
      "outputs": []
    },
    {
      "metadata": {
        "id": "b-knNAK7B32H",
        "colab_type": "code",
        "colab": {
          "autoexec": {
            "startup": false,
            "wait_interval": 0
          },
          "base_uri": "https://localhost:8080/",
          "height": 286
        },
        "outputId": "3f062417-6eb2-4095-a1eb-4cc12c7ae75f",
        "executionInfo": {
          "status": "error",
          "timestamp": 1528845874517,
          "user_tz": 420,
          "elapsed": 283,
          "user": {
            "displayName": "Andy Wang",
            "photoUrl": "//lh5.googleusercontent.com/-JeGfHaAYPFk/AAAAAAAAAAI/AAAAAAAAAC8/R0S_QnbtnTs/s50-c-k-no/photo.jpg",
            "userId": "115106824648733097558"
          }
        }
      },
      "cell_type": "code",
      "source": [
        "# Since this method doesn't allow specifying of different keep probs per session\n",
        "# we'll need to figure out how to allow different keep probabilities per prediction\n",
        "# My understanding of the underlying code is a bit wonky, so I'll go back to the old architecture\n",
        "\n",
        "num_steps = 3001\n",
        "\n",
        "with tf.Session(graph=graph) as session:\n",
        "  tf.global_variables_initializer().run()\n",
        "  print(\"Initialized\")\n",
        "  for step in range(num_steps):\n",
        "    # Pick an offset within the training data, which has been randomized.\n",
        "    # Note: we could use better randomization across epochs.\n",
        "    offset = (step * batch_size) % (restr_train_labels.shape[0] - batch_size)\n",
        "    # Generate a minibatch.\n",
        "    batch_data = restr_train_dataset[offset:(offset + batch_size), :]\n",
        "    batch_labels = restr_train_labels[offset:(offset + batch_size), :]\n",
        "    # Prepare a dictionary telling the session where to feed the minibatch.\n",
        "    # The key of the dictionary is the placeholder node of the graph to be fed,\n",
        "    # and the value is the numpy array to feed to it.\n",
        "    feed_dict = {tf_dataset : batch_data, tf_labels : batch_labels, \n",
        "                 tf_keep_prob : 0.5}\n",
        "    _, l, predictions = session.run(\n",
        "      [optimizer, loss, prediction], feed_dict=feed_dict)\n",
        "    if (step % 500 == 0):\n",
        "      print(\"Minibatch loss at step %d: %f\" % (step, l))\n",
        "      print(\"Minibatch accuracy: %.1f%%\" % accuracy(predictions, batch_labels))\n",
        "      print(\"Validation accuracy: %.1f%%\" % accuracy(\n",
        "        prediction.eval({tf_dataset: valid_dataset, tf_labels: valid_labels, tf_keep_prob: 1.0}), valid_labels))\n",
        "  print(\"Test accuracy: %.1f%%\" % accuracy(prediction.eval({tf_dataset: test_dataset, tf_labels: test_labels, tf_keep_prob: 1.0}), test_labels))"
      ],
      "execution_count": 22,
      "outputs": [
        {
          "output_type": "stream",
          "text": [
            "Initialized\n",
            "Minibatch loss at step 0: 3632.326904\n",
            "Minibatch accuracy: 10.9%\n"
          ],
          "name": "stdout"
        },
        {
          "output_type": "error",
          "ename": "AttributeError",
          "evalue": "ignored",
          "traceback": [
            "\u001b[0;31m\u001b[0m",
            "\u001b[0;31mAttributeError\u001b[0mTraceback (most recent call last)",
            "\u001b[0;32m<ipython-input-22-0891c3a7ef02>\u001b[0m in \u001b[0;36m<module>\u001b[0;34m()\u001b[0m\n\u001b[1;32m     23\u001b[0m       \u001b[0;32mprint\u001b[0m\u001b[0;34m(\u001b[0m\u001b[0;34m\"Minibatch accuracy: %.1f%%\"\u001b[0m \u001b[0;34m%\u001b[0m \u001b[0maccuracy\u001b[0m\u001b[0;34m(\u001b[0m\u001b[0mpredictions\u001b[0m\u001b[0;34m,\u001b[0m \u001b[0mbatch_labels\u001b[0m\u001b[0;34m)\u001b[0m\u001b[0;34m)\u001b[0m\u001b[0;34m\u001b[0m\u001b[0m\n\u001b[1;32m     24\u001b[0m       print(\"Validation accuracy: %.1f%%\" % accuracy(\n\u001b[0;32m---> 25\u001b[0;31m         predictions.eval({tf_dataset: valid_dataset, tf_labels: valid_labels, tf_keep_prob: 1.0}), valid_labels))\n\u001b[0m\u001b[1;32m     26\u001b[0m   \u001b[0;32mprint\u001b[0m\u001b[0;34m(\u001b[0m\u001b[0;34m\"Test accuracy: %.1f%%\"\u001b[0m \u001b[0;34m%\u001b[0m \u001b[0maccuracy\u001b[0m\u001b[0;34m(\u001b[0m\u001b[0mpredictions\u001b[0m\u001b[0;34m.\u001b[0m\u001b[0meval\u001b[0m\u001b[0;34m(\u001b[0m\u001b[0;34m{\u001b[0m\u001b[0mtf_dataset\u001b[0m\u001b[0;34m:\u001b[0m \u001b[0mvalid_dataset\u001b[0m\u001b[0;34m,\u001b[0m \u001b[0mtf_labels\u001b[0m\u001b[0;34m:\u001b[0m \u001b[0mvalid_labels\u001b[0m\u001b[0;34m,\u001b[0m \u001b[0mtf_keep_prob\u001b[0m\u001b[0;34m:\u001b[0m \u001b[0;36m1.0\u001b[0m\u001b[0;34m}\u001b[0m\u001b[0;34m)\u001b[0m\u001b[0;34m,\u001b[0m \u001b[0mtest_labels\u001b[0m\u001b[0;34m)\u001b[0m\u001b[0;34m)\u001b[0m\u001b[0;34m\u001b[0m\u001b[0m\n",
            "\u001b[0;31mAttributeError\u001b[0m: 'numpy.ndarray' object has no attribute 'eval'"
          ]
        }
      ]
    },
    {
      "metadata": {
        "id": "OKXEcujshSFy",
        "colab_type": "code",
        "colab": {
          "autoexec": {
            "startup": false,
            "wait_interval": 0
          },
          "base_uri": "https://localhost:8080/",
          "height": 173
        },
        "outputId": "6cde00ef-d1fa-4fbe-ae6a-bb21c252ea30",
        "executionInfo": {
          "status": "ok",
          "timestamp": 1528916889850,
          "user_tz": 420,
          "elapsed": 936,
          "user": {
            "displayName": "Andy Wang",
            "photoUrl": "//lh5.googleusercontent.com/-JeGfHaAYPFk/AAAAAAAAAAI/AAAAAAAAAC8/R0S_QnbtnTs/s50-c-k-no/photo.jpg",
            "userId": "115106824648733097558"
          }
        }
      },
      "cell_type": "code",
      "source": [
        "# Pulled from the SGD example above and from help from these stackoverflow posts:\n",
        "# https://stackoverflow.com/questions/35387109/validation-and-test-with-tensorflow\n",
        "# https://stackoverflow.com/questions/38641104/tensorflow-relu-misunderstanding\n",
        "\n",
        "batch_size = 128\n",
        "b = 0.01\n",
        "\n",
        "graph = tf.Graph()\n",
        "with graph.as_default():\n",
        "\n",
        "  # Input data. For the training data, we use a placeholder that will be fed\n",
        "  # at run time with a training minibatch.\n",
        "  tf_train_dataset = tf.placeholder(tf.float32,\n",
        "                                    shape=(batch_size, image_size * image_size))\n",
        "  tf_train_labels = tf.placeholder(tf.float32, shape=(batch_size, num_labels))\n",
        "  tf_valid_dataset = tf.constant(valid_dataset)\n",
        "  tf_test_dataset = tf.constant(test_dataset)\n",
        "    \n",
        "  # Weights and biases for before ReLU, need to transform into a 1024 node layer\n",
        "  weights_pre = tf.Variable(tf.truncated_normal([image_size * image_size, 1024]))\n",
        "  biases_pre = tf.Variable(tf.zeros(1024))\n",
        "  \n",
        "  # Weights and biases for after ReLU, reduce down to label size\n",
        "  weights_post = tf.Variable(tf.truncated_normal([1024, num_labels]))\n",
        "  biases_post = tf.Variable(tf.zeros([num_labels]))\n",
        "  \n",
        "  # Training computation.\n",
        "  hidden = tf.nn.relu(tf.matmul(tf_train_dataset, weights_pre) + biases_pre)\n",
        "  keep_prob = tf.placeholder('float')\n",
        "  hidden_dropped = tf.nn.dropout(hidden, keep_prob)\n",
        "  logits = tf.matmul(hidden_dropped, weights_post) + biases_post\n",
        "  regularizer = tf.nn.l2_loss(weights_pre) + tf.nn.l2_loss(weights_post)\n",
        "  loss = tf.reduce_mean(\n",
        "    tf.nn.softmax_cross_entropy_with_logits(labels=tf_train_labels, logits=logits) + b * regularizer)\n",
        "  \n",
        "  # Optimizer.\n",
        "  optimizer = tf.train.GradientDescentOptimizer(0.5).minimize(loss)\n",
        "  \n",
        "  # Predictions for the training dataset\n",
        "  train_prediction = tf.nn.softmax(logits)\n",
        "  \n",
        "  # Predictions for validation dataset\n",
        "  valid_logit = tf.matmul(tf.nn.relu(tf.matmul(tf_valid_dataset, weights_pre) + biases_pre), weights_post) + biases_post\n",
        "  valid_prediction = tf.nn.softmax(valid_logit)\n",
        "  \n",
        "  # Predictions for test dataset\n",
        "  test_logit = tf.matmul(tf.nn.relu(tf.matmul(tf_test_dataset, weights_pre) + biases_pre), weights_post) + biases_post\n",
        "  test_prediction = tf.nn.softmax(test_logit)"
      ],
      "execution_count": 7,
      "outputs": [
        {
          "output_type": "stream",
          "text": [
            "WARNING:tensorflow:From <ipython-input-7-d1e2aa10bf2f>:31: softmax_cross_entropy_with_logits (from tensorflow.python.ops.nn_ops) is deprecated and will be removed in a future version.\n",
            "Instructions for updating:\n",
            "\n",
            "Future major versions of TensorFlow will allow gradients to flow\n",
            "into the labels input on backprop by default.\n",
            "\n",
            "See @{tf.nn.softmax_cross_entropy_with_logits_v2}.\n",
            "\n"
          ],
          "name": "stdout"
        }
      ]
    },
    {
      "metadata": {
        "id": "osV3nrqihW6w",
        "colab_type": "code",
        "colab": {
          "autoexec": {
            "startup": false,
            "wait_interval": 0
          },
          "base_uri": "https://localhost:8080/",
          "height": 408
        },
        "outputId": "955afe00-b7bc-4815-98f6-97a1b93f4197",
        "executionInfo": {
          "status": "ok",
          "timestamp": 1528916983168,
          "user_tz": 420,
          "elapsed": 44665,
          "user": {
            "displayName": "Andy Wang",
            "photoUrl": "//lh5.googleusercontent.com/-JeGfHaAYPFk/AAAAAAAAAAI/AAAAAAAAAC8/R0S_QnbtnTs/s50-c-k-no/photo.jpg",
            "userId": "115106824648733097558"
          }
        }
      },
      "cell_type": "code",
      "source": [
        "num_steps = 3001\n",
        "\n",
        "with tf.Session(graph=graph) as session:\n",
        "  tf.global_variables_initializer().run()\n",
        "  print(\"Initialized\")\n",
        "  for step in range(num_steps):\n",
        "    # Pick an offset within the training data, which has been randomized.\n",
        "    # Note: we could use better randomization across epochs.\n",
        "    offset = (step * batch_size) % (restr_train_labels.shape[0] - batch_size)\n",
        "    # Generate a minibatch.\n",
        "    batch_data = restr_train_dataset[offset:(offset + batch_size), :]\n",
        "    batch_labels = restr_train_labels[offset:(offset + batch_size), :]\n",
        "    # Prepare a dictionary telling the session where to feed the minibatch.\n",
        "    # The key of the dictionary is the placeholder node of the graph to be fed,\n",
        "    # and the value is the numpy array to feed to it.\n",
        "    feed_dict = {tf_train_dataset : batch_data, tf_train_labels : batch_labels, keep_prob: 0.5}\n",
        "    _, l, predictions = session.run(\n",
        "      [optimizer, loss, train_prediction], feed_dict=feed_dict)\n",
        "    if (step % 500 == 0):\n",
        "      print(\"Minibatch loss at step %d: %f\" % (step, l))\n",
        "      print(\"Minibatch accuracy: %.1f%%\" % accuracy(predictions, batch_labels))\n",
        "      print(\"Validation accuracy: %.1f%%\" % accuracy(\n",
        "        valid_prediction.eval(), valid_labels))\n",
        "  print(\"Test accuracy: %.1f%%\" % accuracy(test_prediction.eval(), test_labels))"
      ],
      "execution_count": 11,
      "outputs": [
        {
          "output_type": "stream",
          "text": [
            "Initialized\n",
            "Minibatch loss at step 0: 3626.314453\n",
            "Minibatch accuracy: 5.5%\n",
            "Validation accuracy: 30.9%\n",
            "Minibatch loss at step 500: 21.041096\n",
            "Minibatch accuracy: 100.0%\n",
            "Validation accuracy: 78.9%\n",
            "Minibatch loss at step 1000: 0.499112\n",
            "Minibatch accuracy: 99.2%\n",
            "Validation accuracy: 78.9%\n",
            "Minibatch loss at step 1500: 0.325664\n",
            "Minibatch accuracy: 100.0%\n",
            "Validation accuracy: 78.6%\n",
            "Minibatch loss at step 2000: 0.309257\n",
            "Minibatch accuracy: 100.0%\n",
            "Validation accuracy: 78.4%\n",
            "Minibatch loss at step 2500: 0.296944\n",
            "Minibatch accuracy: 100.0%\n",
            "Validation accuracy: 78.4%\n",
            "Minibatch loss at step 3000: 0.293223\n",
            "Minibatch accuracy: 100.0%\n",
            "Validation accuracy: 78.9%\n",
            "Test accuracy: 85.5%\n"
          ],
          "name": "stdout"
        }
      ]
    },
    {
      "metadata": {
        "id": "-b1hTz3VWZjw",
        "colab_type": "text"
      },
      "cell_type": "markdown",
      "source": [
        "---\n",
        "Problem 4\n",
        "---------\n",
        "\n",
        "Try to get the best performance you can using a multi-layer model! The best reported test accuracy using a deep network is [97.1%](http://yaroslavvb.blogspot.com/2011/09/notmnist-dataset.html?showComment=1391023266211#c8758720086795711595).\n",
        "\n",
        "One avenue you can explore is to add multiple layers.\n",
        "\n",
        "Another one is to use learning rate decay:\n",
        "\n",
        "    global_step = tf.Variable(0)  # count the number of steps taken.\n",
        "    learning_rate = tf.train.exponential_decay(0.5, global_step, ...)\n",
        "    optimizer = tf.train.GradientDescentOptimizer(learning_rate).minimize(loss, global_step=global_step)\n",
        " \n",
        " ---\n"
      ]
    }
  ]
}